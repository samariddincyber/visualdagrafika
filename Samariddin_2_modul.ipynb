{
  "cells": [
    {
      "cell_type": "markdown",
      "metadata": {
        "id": "view-in-github",
        "colab_type": "text"
      },
      "source": [
        "<a href=\"https://colab.research.google.com/github/samariddincyber/visualdagrafika/blob/main/Samariddin_2_modul.ipynb\" target=\"_parent\"><img src=\"https://colab.research.google.com/assets/colab-badge.svg\" alt=\"Open In Colab\"/></a>"
      ]
    },
    {
      "cell_type": "markdown",
      "metadata": {
        "id": "WyTfPJtEqH5C"
      },
      "source": [
        "## **Ma'lumotlar tahlili. Pandas kutubxonasi.**\n",
        "## Series ma'lumotlar tuzilmasi"
      ]
    },
    {
      "cell_type": "code",
      "source": [
        "import pandas as pd\n",
        "import numpy as np\n",
        "from pandas import Series"
      ],
      "metadata": {
        "id": "kU0XgoutKuPb"
      },
      "execution_count": 165,
      "outputs": []
    },
    {
      "cell_type": "markdown",
      "source": [
        "### **1-mashq** O'zbekiston Respublikasi viloyatlaridan iborat bir o'lchamli Series obyektini yarating"
      ],
      "metadata": {
        "id": "ArX7CU-Oznl2"
      }
    },
    {
      "cell_type": "code",
      "source": [
        "# Javobni shu yerga yozing\n",
        "birinch = Series(['Andijon', 'Namangan', 'Fargona', 'Toshkent', 'Sirdaryo', 'Jizzax', 'Samarqand', 'Buxoro', 'Navoiy', 'surxondaryo', 'Qashqadaryo', 'Xorazm'])\n"
      ],
      "metadata": {
        "id": "IWOzPXl5z2Ko"
      },
      "execution_count": 166,
      "outputs": []
    },
    {
      "cell_type": "markdown",
      "source": [
        "### **2-mashq.** Yuqorida yaratilgan Series obyektining barcha qiymaltarini chiqaring"
      ],
      "metadata": {
        "id": "9_MYV2_V0_5s"
      }
    },
    {
      "cell_type": "code",
      "source": [
        "# Javobni shu yerga yozing\n",
        "print(birinch)"
      ],
      "metadata": {
        "id": "jUVswV-81DPw",
        "outputId": "bac55f22-f422-4e6a-c27b-41641481f19e",
        "colab": {
          "base_uri": "https://localhost:8080/"
        }
      },
      "execution_count": 167,
      "outputs": [
        {
          "output_type": "stream",
          "name": "stdout",
          "text": [
            "0         Andijon\n",
            "1        Namangan\n",
            "2         Fargona\n",
            "3        Toshkent\n",
            "4        Sirdaryo\n",
            "5          Jizzax\n",
            "6       Samarqand\n",
            "7          Buxoro\n",
            "8          Navoiy\n",
            "9     surxondaryo\n",
            "10    Qashqadaryo\n",
            "11         Xorazm\n",
            "dtype: object\n"
          ]
        }
      ]
    },
    {
      "cell_type": "markdown",
      "source": [
        "### **3-mashq.** Yuqoridagi Series obyektining eng birinchi qiymatini chiqaring"
      ],
      "metadata": {
        "id": "6gBjxicU1Fqc"
      }
    },
    {
      "cell_type": "code",
      "source": [
        "# Javobni shu yerga kiriting\n",
        "print(birinch.head(1))"
      ],
      "metadata": {
        "id": "cXedNy2I1Mnu",
        "outputId": "e6438471-b01e-45b5-e737-8406c3873dc5",
        "colab": {
          "base_uri": "https://localhost:8080/"
        }
      },
      "execution_count": 168,
      "outputs": [
        {
          "output_type": "stream",
          "name": "stdout",
          "text": [
            "0    Andijon\n",
            "dtype: object\n"
          ]
        }
      ]
    },
    {
      "cell_type": "markdown",
      "source": [
        "### **4-mashq.** Yuqoridagi Series obyektining eng oxirgi qiymatini chiqaring"
      ],
      "metadata": {
        "id": "PoCmQvlG1cSK"
      }
    },
    {
      "cell_type": "code",
      "source": [
        "# Javobni shu yerga kiriting\n",
        "print(birinch.tail(1))"
      ],
      "metadata": {
        "id": "FGevtgn51jb1",
        "outputId": "e68e2d3d-d005-4616-bdf3-c2dc5e44701e",
        "colab": {
          "base_uri": "https://localhost:8080/"
        }
      },
      "execution_count": 169,
      "outputs": [
        {
          "output_type": "stream",
          "name": "stdout",
          "text": [
            "11    Xorazm\n",
            "dtype: object\n"
          ]
        }
      ]
    },
    {
      "cell_type": "markdown",
      "source": [
        "### **5-mashq.** Yuqoridagi Series obyektining o'rtasidan 5 ta qiymat chiqaring"
      ],
      "metadata": {
        "id": "VRaAFx161kt4"
      }
    },
    {
      "cell_type": "code",
      "source": [
        "# Javobni shu yerga kiriting\n",
        "print(birinch[3:8])"
      ],
      "metadata": {
        "id": "acJjpXVQ1q_6",
        "outputId": "6348cbfc-a657-4f2f-d93c-7dedc77c1303",
        "colab": {
          "base_uri": "https://localhost:8080/"
        }
      },
      "execution_count": 170,
      "outputs": [
        {
          "output_type": "stream",
          "name": "stdout",
          "text": [
            "3     Toshkent\n",
            "4     Sirdaryo\n",
            "5       Jizzax\n",
            "6    Samarqand\n",
            "7       Buxoro\n",
            "dtype: object\n"
          ]
        }
      ]
    },
    {
      "cell_type": "markdown",
      "source": [
        "### **6-mashq.** Quyidagi Series obyektini yarating.\n",
        "**Ahamiyat bering. `Series` obyekti indeksi sifatida viloyatlar nomi ishlatilgan**\n",
        "\n",
        "![image.png](data:image/png;base64,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)"
      ],
      "metadata": {
        "id": "7D7fi9af1tVT"
      }
    },
    {
      "cell_type": "code",
      "source": [
        "# Javobni shu yerga kiriting\n",
        "oltinchi = Series([1899000, 1384700, 2597000, 910500, 1200000, 1862000, 767500,  2029000, 1200000, 2322000, 648100, 1676000,4450000],\n",
        "                  index = ['Andijon', 'Buxoro', 'Fargona', 'Jizzax', 'Xorazm', 'Namangan', 'Navoiy', 'Qashqadaryo', 'Qoraqalpogiston Respubliasi', 'Samarqand', 'Sirdaryo', 'Surxondaryo', 'Toshkent'])\n",
        "\n",
        "print(oltinchi)"
      ],
      "metadata": {
        "id": "0d5kWRTF19Fp",
        "outputId": "eabff0b4-5341-48d7-c735-56d78197acdb",
        "colab": {
          "base_uri": "https://localhost:8080/"
        }
      },
      "execution_count": 171,
      "outputs": [
        {
          "output_type": "stream",
          "name": "stdout",
          "text": [
            "Andijon                        1899000\n",
            "Buxoro                         1384700\n",
            "Fargona                        2597000\n",
            "Jizzax                          910500\n",
            "Xorazm                         1200000\n",
            "Namangan                       1862000\n",
            "Navoiy                          767500\n",
            "Qashqadaryo                    2029000\n",
            "Qoraqalpogiston Respubliasi    1200000\n",
            "Samarqand                      2322000\n",
            "Sirdaryo                        648100\n",
            "Surxondaryo                    1676000\n",
            "Toshkent                       4450000\n",
            "dtype: int64\n"
          ]
        }
      ]
    },
    {
      "cell_type": "markdown",
      "source": [
        "### **7-mashq.** Yuqoridagi `Series` obyektidan aholi soni 1 milliondan kam va ko'p bo'lgan viloyatlarni alohida chiqaring"
      ],
      "metadata": {
        "id": "-HNPYHSO1_sk"
      }
    },
    {
      "cell_type": "code",
      "source": [
        "# Javobni shuyerga yozing\n",
        "print('1000000 dan koplari\\n')\n",
        "print(oltinchi[oltinchi >= 1000000])\n",
        "print('\\n\\n ')\n",
        "print('1000000 dan kamlari\\n')\n",
        "print(oltinchi[oltinchi < 1000000])"
      ],
      "metadata": {
        "id": "zV-miXuz2gYt",
        "outputId": "5b2dc933-c415-4816-842d-fbfc99c59ef1",
        "colab": {
          "base_uri": "https://localhost:8080/"
        }
      },
      "execution_count": 172,
      "outputs": [
        {
          "output_type": "stream",
          "name": "stdout",
          "text": [
            "1000000 dan koplari\n",
            "\n",
            "Andijon                        1899000\n",
            "Buxoro                         1384700\n",
            "Fargona                        2597000\n",
            "Xorazm                         1200000\n",
            "Namangan                       1862000\n",
            "Qashqadaryo                    2029000\n",
            "Qoraqalpogiston Respubliasi    1200000\n",
            "Samarqand                      2322000\n",
            "Surxondaryo                    1676000\n",
            "Toshkent                       4450000\n",
            "dtype: int64\n",
            "\n",
            "\n",
            " \n",
            "1000000 dan kamlari\n",
            "\n",
            "Jizzax      910500\n",
            "Navoiy      767500\n",
            "Sirdaryo    648100\n",
            "dtype: int64\n"
          ]
        }
      ]
    },
    {
      "cell_type": "markdown",
      "source": [
        "### **8-mashq.** Quyidagi lug'atda viloyatlar va ularning maydonlari berilgan. Lug'atdan yangi `Series` obyektini yarating va unga \"Hududlar hajmi\" deb nom bering\n",
        "\n",
        "![image.png](data:image/png;base64,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)"
      ],
      "metadata": {
        "id": "bAoZym8h2l-i"
      }
    },
    {
      "cell_type": "code",
      "source": [
        "# Javobni shuyerga yozing\n",
        "obyekt={\n",
        "    'Andijon':[4200],\n",
        "    'Buxoro':[39400],\n",
        "    'Fargona':[6800],\n",
        "    'Xorazm':[6300],\n",
        "    'Namangan':[7900],\n",
        "    'Navoiy':[110800],\n",
        "    'Qashqadaryo':[28400],\n",
        "    'Qoraqalpagiston respublikasi':[160000],\n",
        "    'Samarqand':[16400],\n",
        "    'Sirdaryo':[5100],\n",
        "    'Surxondaryo':[20800],\n",
        "    'Jizzax':[20500],\n",
        "    'Toshkent':[15300]\n",
        "}\n",
        "sr1=Series(obyekt)\n",
        "sr1.name = 'Hududlar hajmi'\n",
        "print(sr1.name)"
      ],
      "metadata": {
        "id": "Ydf919ZE22IU",
        "outputId": "7b68b2f7-9c30-4225-9155-443e38c37994",
        "colab": {
          "base_uri": "https://localhost:8080/"
        }
      },
      "execution_count": 173,
      "outputs": [
        {
          "output_type": "stream",
          "name": "stdout",
          "text": [
            "Hududlar hajmi\n"
          ]
        }
      ]
    },
    {
      "cell_type": "code",
      "source": [
        "sr1"
      ],
      "metadata": {
        "id": "_H-64eZF1rYH",
        "outputId": "0b978f2c-bcef-4eb0-a9ce-2517980d29de",
        "colab": {
          "base_uri": "https://localhost:8080/"
        }
      },
      "execution_count": 174,
      "outputs": [
        {
          "output_type": "execute_result",
          "data": {
            "text/plain": [
              "Andijon                           [4200]\n",
              "Buxoro                           [39400]\n",
              "Fargona                           [6800]\n",
              "Xorazm                            [6300]\n",
              "Namangan                          [7900]\n",
              "Navoiy                          [110800]\n",
              "Qashqadaryo                      [28400]\n",
              "Qoraqalpagiston respublikasi    [160000]\n",
              "Samarqand                        [16400]\n",
              "Sirdaryo                          [5100]\n",
              "Surxondaryo                      [20800]\n",
              "Jizzax                           [20500]\n",
              "Toshkent                         [15300]\n",
              "Name: Hududlar hajmi, dtype: object"
            ]
          },
          "metadata": {},
          "execution_count": 174
        }
      ]
    },
    {
      "cell_type": "markdown",
      "source": [
        "### **9-mashq.** Yuqoridagi `Series` obyektidan hududi eng katta va eng kichik elementlarni chiqaring"
      ],
      "metadata": {
        "id": "QusM_M0N3DB4"
      }
    },
    {
      "cell_type": "code",
      "source": [
        "# Javobni shuyerga yozing\n",
        "np.max(sr1.values)"
      ],
      "metadata": {
        "id": "uVfkf7ep3Tdp",
        "outputId": "17bf765a-f82f-46df-d4ef-846ada1fe890",
        "colab": {
          "base_uri": "https://localhost:8080/"
        }
      },
      "execution_count": 175,
      "outputs": [
        {
          "output_type": "execute_result",
          "data": {
            "text/plain": [
              "[160000]"
            ]
          },
          "metadata": {},
          "execution_count": 175
        }
      ]
    },
    {
      "cell_type": "markdown",
      "source": [
        "### ***10-mashq.*** Yuqoridagi hudulardan O'zbekiston Respublikasi hududini hisoblang"
      ],
      "metadata": {
        "id": "59eS3ucV3gSz"
      }
    },
    {
      "cell_type": "code",
      "source": [
        "# Javobni shuyerga yozing\n",
        "print(np.sum(sr1.sum()))"
      ],
      "metadata": {
        "id": "UJaGjslR3rA2",
        "outputId": "d68b35fe-dba4-4273-c9a2-3e92d95c128c",
        "colab": {
          "base_uri": "https://localhost:8080/"
        }
      },
      "execution_count": 176,
      "outputs": [
        {
          "output_type": "stream",
          "name": "stdout",
          "text": [
            "441900\n"
          ]
        }
      ]
    },
    {
      "cell_type": "markdown",
      "source": [
        "### **11-mashq**. Yuqoridagi hudulardan O'zbekiston Respublikasi hududini hisoblang va eng katta qiymati, eng kichik qiymatiga nisbatini oluvchi dastur kodini yozing\n"
      ],
      "metadata": {
        "id": "TfXOXStIx5tS"
      }
    },
    {
      "cell_type": "code",
      "source": [
        "# Javobni shuyerga yozing\n",
        "print(\"O\\'zbekiston Respublikasi hududi \\n\", np.sum(sr1.sum()))\n",
        "print('\\n\\n Eng katta qiymatining eng kichik qiymatiga nisbati\\n')\n",
        "print((np.max(sr1.sum()))/(np.min(sr1.sum())))"
      ],
      "metadata": {
        "id": "Y2hxY8XCyJHg",
        "outputId": "8a14e475-bc79-4967-c28a-b17cb7f9fe72",
        "colab": {
          "base_uri": "https://localhost:8080/"
        }
      },
      "execution_count": 177,
      "outputs": [
        {
          "output_type": "stream",
          "name": "stdout",
          "text": [
            "O'zbekiston Respublikasi hududi \n",
            " 441900\n",
            "\n",
            "\n",
            " Eng katta qiymatining eng kichik qiymatiga nisbati\n",
            "\n",
            "38.095238095238095\n"
          ]
        }
      ]
    },
    {
      "cell_type": "markdown",
      "source": [
        "### **12-mashq.** Yuqoridagi hudulardan O'zbekiston Respublikasi hududini hisoblang va eng katta qiymati, eng kichik qiymati yig'indisini  oluvchi dastur kodini yozing"
      ],
      "metadata": {
        "id": "Yfp0jgNUyihs"
      }
    },
    {
      "cell_type": "code",
      "source": [
        "# Javobni shuyerga yozing\n",
        "print(\"O\\'zbekiston Respublikasi hududi \\n\", np.sum(sr1.sum()))\n",
        "print('\\n\\n Eng katta qiymati va eng kichik qiymati yigindisi')\n",
        "print((np.max(sr1.sum()))+(np.min(sr1.sum())))"
      ],
      "metadata": {
        "id": "VoZ1IwPWykVW",
        "outputId": "4bf552f4-a239-42b0-818b-7e3bac8add48",
        "colab": {
          "base_uri": "https://localhost:8080/"
        }
      },
      "execution_count": 178,
      "outputs": [
        {
          "output_type": "stream",
          "name": "stdout",
          "text": [
            "O'zbekiston Respublikasi hududi \n",
            " 441900\n",
            "\n",
            "\n",
            " Eng katta qiymati va eng kichik qiymati yigindisi\n",
            "164200\n"
          ]
        }
      ]
    },
    {
      "cell_type": "markdown",
      "source": [
        "### **13-mashq.** Yuqoridagi hudulardan O'zbekiston Respublikasi hududini eng katta qiymati, eng kichik qiymati ko'paytmasi va eng kichik qiymatni  chiqaruvchi dastur kodini yozing"
      ],
      "metadata": {
        "id": "BE398Hj9k8zb"
      }
    },
    {
      "cell_type": "code",
      "source": [
        "# Javobni shuyerga yozing\n",
        "print(\"Eng katta qiymat \\n\", np.max(sr1.sum()))\n",
        "print(\"Eng kichik qiymat \\n\", np.min(sr1.sum()))\n",
        "print(\"Kopaytmasi \\n\", (np.max(sr1.sum()))*(np.min(sr1.sum())))"
      ],
      "metadata": {
        "id": "KdjPm0fxmAjH",
        "outputId": "125e9774-6b94-4a29-d9fc-13d25eb3d5ad",
        "colab": {
          "base_uri": "https://localhost:8080/"
        }
      },
      "execution_count": 179,
      "outputs": [
        {
          "output_type": "stream",
          "name": "stdout",
          "text": [
            "Eng katta qiymat \n",
            " 160000\n",
            "Eng kichik qiymat \n",
            " 4200\n",
            "Kopaytmasi \n",
            " 672000000\n"
          ]
        }
      ]
    },
    {
      "cell_type": "markdown",
      "source": [
        "### **14-mashq.** Series obyektini yarating va isnull(), notnull metodlarini ishlating va vazifasini tushuntiring."
      ],
      "metadata": {
        "id": "-ONstXQcmBmc"
      }
    },
    {
      "cell_type": "code",
      "source": [
        "# Javobni shuyerga yozing\n",
        "sr2 = pd.Series(['Samariddin', 'Elshod', 'Turdibek', 'Nurbek', 'Begzod', 'Baxtiyor', 'Samandar', 'Mirzabek'], index = ['q', 'w', 'e', 'r', 't', 'y', 'u', 'i'])\n",
        "print(sr2.isnull())\n",
        "print('\\n')\n",
        "print(sr2.notnull())"
      ],
      "metadata": {
        "id": "sWCcCiZFmxcq",
        "outputId": "7341303d-4d18-40d8-8484-75e681b698c4",
        "colab": {
          "base_uri": "https://localhost:8080/"
        }
      },
      "execution_count": 180,
      "outputs": [
        {
          "output_type": "stream",
          "name": "stdout",
          "text": [
            "q    False\n",
            "w    False\n",
            "e    False\n",
            "r    False\n",
            "t    False\n",
            "y    False\n",
            "u    False\n",
            "i    False\n",
            "dtype: bool\n",
            "\n",
            "\n",
            "q    True\n",
            "w    True\n",
            "e    True\n",
            "r    True\n",
            "t    True\n",
            "y    True\n",
            "u    True\n",
            "i    True\n",
            "dtype: bool\n"
          ]
        }
      ]
    },
    {
      "cell_type": "markdown",
      "source": [
        "### **15-mashq.** Series obyektini yarating va iloc, loc, max, min, mean metodlarini ishlating va vazifasini tushuntiring."
      ],
      "metadata": {
        "id": "MjlDcisXmyKt"
      }
    },
    {
      "cell_type": "code",
      "source": [
        "# Javobni shuyerga yozing\n",
        "print(sr2.iloc[0]) # iloc() metodi elementga faqat index orqali murojaatni ta'minlaydi\n",
        "print(sr2.iloc[2:4])\n",
        "\n",
        "print('\\n')\n",
        "print(sr2.loc['q']) #loc() metodi elementga index nomi yoki bog'lanish uslubi orqali murojaat qilishni ta'minlaydi\n",
        "print(sr2.loc['q':'r'])"
      ],
      "metadata": {
        "id": "ZEyz1Devm6_z",
        "outputId": "db69f6d6-f857-49fe-fc59-29e0e6467432",
        "colab": {
          "base_uri": "https://localhost:8080/"
        }
      },
      "execution_count": 181,
      "outputs": [
        {
          "output_type": "stream",
          "name": "stdout",
          "text": [
            "Samariddin\n",
            "e    Turdibek\n",
            "r      Nurbek\n",
            "dtype: object\n",
            "\n",
            "\n",
            "Samariddin\n",
            "q    Samariddin\n",
            "w        Elshod\n",
            "e      Turdibek\n",
            "r        Nurbek\n",
            "dtype: object\n"
          ]
        }
      ]
    },
    {
      "cell_type": "markdown",
      "source": [
        "# ***DataFrame*** ma'lumot tuzilmasi bilan ishlash"
      ],
      "metadata": {
        "id": "Pf3ONl4W3xrO"
      }
    },
    {
      "cell_type": "markdown",
      "source": [],
      "metadata": {
        "id": "CZzNeR1Ql_xV"
      }
    },
    {
      "cell_type": "markdown",
      "metadata": {
        "id": "QJT0KIgcN79b"
      },
      "source": [
        "### **1-mashq.** Quyida ko'rsatilgan dataframeni yarating va `df` deb nomlang\n",
        "![image.png](data:image/png;base64,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)"
      ]
    },
    {
      "cell_type": "code",
      "source": [
        "mas1 = oltinchi.index\n",
        "mas2 = []\n",
        "for st in mas1:\n",
        "  if(len(st) < 20):\n",
        "    mas2.append(st + ' viloyati')\n",
        "  else :\n",
        "    mas2.append(st)\n"
      ],
      "metadata": {
        "id": "ipChsHFUAxi9"
      },
      "execution_count": 182,
      "outputs": []
    },
    {
      "cell_type": "code",
      "execution_count": 183,
      "metadata": {
        "code_folding": [],
        "id": "6WL4EWf3l7vL",
        "outputId": "2022e98f-1ce8-422e-ce11-19563d54d2b1",
        "colab": {
          "base_uri": "https://localhost:8080/",
          "height": 457
        }
      },
      "outputs": [
        {
          "output_type": "execute_result",
          "data": {
            "text/plain": [
              "                          hudud           markazi  maydoni  aholisi\n",
              "0              Andijon viloyati    Andijon shahri     4200  1899000\n",
              "1               Buxoro viloyati     Buxoro shahri    39400  1384700\n",
              "2              Fargona viloyati    Fargona shahri     6800  2597000\n",
              "3               Jizzax viloyati     Jizzax shahri     6300   910500\n",
              "4               Xorazm viloyati    Urganch shahri     7900  1200000\n",
              "5             Namangan viloyati   Namangan shahri   110800  1862000\n",
              "6               Navoiy viloyati     Navoiy shahri    28400   767500\n",
              "7          Qashqadaryo viloyati     Qarshi shahri   160000  2029000\n",
              "8   Qoraqalpogiston Respubliasi      Nukus shahri    16400  1200000\n",
              "9            Samarqand viloyati  Samarqand shahri     5100  2322000\n",
              "10            Sirdaryo viloyati   Guliston shahri    20800   648100\n",
              "11         Surxondaryo viloyati     Termiz shahri    20500  1676000\n",
              "12            Toshkent viloyati  Nurafshon shahri    15300  4450000"
            ],
            "text/html": [
              "\n",
              "  <div id=\"df-00c16b89-3f83-4014-816c-488c2254e2f7\" class=\"colab-df-container\">\n",
              "    <div>\n",
              "<style scoped>\n",
              "    .dataframe tbody tr th:only-of-type {\n",
              "        vertical-align: middle;\n",
              "    }\n",
              "\n",
              "    .dataframe tbody tr th {\n",
              "        vertical-align: top;\n",
              "    }\n",
              "\n",
              "    .dataframe thead th {\n",
              "        text-align: right;\n",
              "    }\n",
              "</style>\n",
              "<table border=\"1\" class=\"dataframe\">\n",
              "  <thead>\n",
              "    <tr style=\"text-align: right;\">\n",
              "      <th></th>\n",
              "      <th>hudud</th>\n",
              "      <th>markazi</th>\n",
              "      <th>maydoni</th>\n",
              "      <th>aholisi</th>\n",
              "    </tr>\n",
              "  </thead>\n",
              "  <tbody>\n",
              "    <tr>\n",
              "      <th>0</th>\n",
              "      <td>Andijon viloyati</td>\n",
              "      <td>Andijon shahri</td>\n",
              "      <td>4200</td>\n",
              "      <td>1899000</td>\n",
              "    </tr>\n",
              "    <tr>\n",
              "      <th>1</th>\n",
              "      <td>Buxoro viloyati</td>\n",
              "      <td>Buxoro shahri</td>\n",
              "      <td>39400</td>\n",
              "      <td>1384700</td>\n",
              "    </tr>\n",
              "    <tr>\n",
              "      <th>2</th>\n",
              "      <td>Fargona viloyati</td>\n",
              "      <td>Fargona shahri</td>\n",
              "      <td>6800</td>\n",
              "      <td>2597000</td>\n",
              "    </tr>\n",
              "    <tr>\n",
              "      <th>3</th>\n",
              "      <td>Jizzax viloyati</td>\n",
              "      <td>Jizzax shahri</td>\n",
              "      <td>6300</td>\n",
              "      <td>910500</td>\n",
              "    </tr>\n",
              "    <tr>\n",
              "      <th>4</th>\n",
              "      <td>Xorazm viloyati</td>\n",
              "      <td>Urganch shahri</td>\n",
              "      <td>7900</td>\n",
              "      <td>1200000</td>\n",
              "    </tr>\n",
              "    <tr>\n",
              "      <th>5</th>\n",
              "      <td>Namangan viloyati</td>\n",
              "      <td>Namangan shahri</td>\n",
              "      <td>110800</td>\n",
              "      <td>1862000</td>\n",
              "    </tr>\n",
              "    <tr>\n",
              "      <th>6</th>\n",
              "      <td>Navoiy viloyati</td>\n",
              "      <td>Navoiy shahri</td>\n",
              "      <td>28400</td>\n",
              "      <td>767500</td>\n",
              "    </tr>\n",
              "    <tr>\n",
              "      <th>7</th>\n",
              "      <td>Qashqadaryo viloyati</td>\n",
              "      <td>Qarshi shahri</td>\n",
              "      <td>160000</td>\n",
              "      <td>2029000</td>\n",
              "    </tr>\n",
              "    <tr>\n",
              "      <th>8</th>\n",
              "      <td>Qoraqalpogiston Respubliasi</td>\n",
              "      <td>Nukus shahri</td>\n",
              "      <td>16400</td>\n",
              "      <td>1200000</td>\n",
              "    </tr>\n",
              "    <tr>\n",
              "      <th>9</th>\n",
              "      <td>Samarqand viloyati</td>\n",
              "      <td>Samarqand shahri</td>\n",
              "      <td>5100</td>\n",
              "      <td>2322000</td>\n",
              "    </tr>\n",
              "    <tr>\n",
              "      <th>10</th>\n",
              "      <td>Sirdaryo viloyati</td>\n",
              "      <td>Guliston shahri</td>\n",
              "      <td>20800</td>\n",
              "      <td>648100</td>\n",
              "    </tr>\n",
              "    <tr>\n",
              "      <th>11</th>\n",
              "      <td>Surxondaryo viloyati</td>\n",
              "      <td>Termiz shahri</td>\n",
              "      <td>20500</td>\n",
              "      <td>1676000</td>\n",
              "    </tr>\n",
              "    <tr>\n",
              "      <th>12</th>\n",
              "      <td>Toshkent viloyati</td>\n",
              "      <td>Nurafshon shahri</td>\n",
              "      <td>15300</td>\n",
              "      <td>4450000</td>\n",
              "    </tr>\n",
              "  </tbody>\n",
              "</table>\n",
              "</div>\n",
              "    <div class=\"colab-df-buttons\">\n",
              "\n",
              "  <div class=\"colab-df-container\">\n",
              "    <button class=\"colab-df-convert\" onclick=\"convertToInteractive('df-00c16b89-3f83-4014-816c-488c2254e2f7')\"\n",
              "            title=\"Convert this dataframe to an interactive table.\"\n",
              "            style=\"display:none;\">\n",
              "\n",
              "  <svg xmlns=\"http://www.w3.org/2000/svg\" height=\"24px\" viewBox=\"0 -960 960 960\">\n",
              "    <path d=\"M120-120v-720h720v720H120Zm60-500h600v-160H180v160Zm220 220h160v-160H400v160Zm0 220h160v-160H400v160ZM180-400h160v-160H180v160Zm440 0h160v-160H620v160ZM180-180h160v-160H180v160Zm440 0h160v-160H620v160Z\"/>\n",
              "  </svg>\n",
              "    </button>\n",
              "\n",
              "  <style>\n",
              "    .colab-df-container {\n",
              "      display:flex;\n",
              "      gap: 12px;\n",
              "    }\n",
              "\n",
              "    .colab-df-convert {\n",
              "      background-color: #E8F0FE;\n",
              "      border: none;\n",
              "      border-radius: 50%;\n",
              "      cursor: pointer;\n",
              "      display: none;\n",
              "      fill: #1967D2;\n",
              "      height: 32px;\n",
              "      padding: 0 0 0 0;\n",
              "      width: 32px;\n",
              "    }\n",
              "\n",
              "    .colab-df-convert:hover {\n",
              "      background-color: #E2EBFA;\n",
              "      box-shadow: 0px 1px 2px rgba(60, 64, 67, 0.3), 0px 1px 3px 1px rgba(60, 64, 67, 0.15);\n",
              "      fill: #174EA6;\n",
              "    }\n",
              "\n",
              "    .colab-df-buttons div {\n",
              "      margin-bottom: 4px;\n",
              "    }\n",
              "\n",
              "    [theme=dark] .colab-df-convert {\n",
              "      background-color: #3B4455;\n",
              "      fill: #D2E3FC;\n",
              "    }\n",
              "\n",
              "    [theme=dark] .colab-df-convert:hover {\n",
              "      background-color: #434B5C;\n",
              "      box-shadow: 0px 1px 3px 1px rgba(0, 0, 0, 0.15);\n",
              "      filter: drop-shadow(0px 1px 2px rgba(0, 0, 0, 0.3));\n",
              "      fill: #FFFFFF;\n",
              "    }\n",
              "  </style>\n",
              "\n",
              "    <script>\n",
              "      const buttonEl =\n",
              "        document.querySelector('#df-00c16b89-3f83-4014-816c-488c2254e2f7 button.colab-df-convert');\n",
              "      buttonEl.style.display =\n",
              "        google.colab.kernel.accessAllowed ? 'block' : 'none';\n",
              "\n",
              "      async function convertToInteractive(key) {\n",
              "        const element = document.querySelector('#df-00c16b89-3f83-4014-816c-488c2254e2f7');\n",
              "        const dataTable =\n",
              "          await google.colab.kernel.invokeFunction('convertToInteractive',\n",
              "                                                    [key], {});\n",
              "        if (!dataTable) return;\n",
              "\n",
              "        const docLinkHtml = 'Like what you see? Visit the ' +\n",
              "          '<a target=\"_blank\" href=https://colab.research.google.com/notebooks/data_table.ipynb>data table notebook</a>'\n",
              "          + ' to learn more about interactive tables.';\n",
              "        element.innerHTML = '';\n",
              "        dataTable['output_type'] = 'display_data';\n",
              "        await google.colab.output.renderOutput(dataTable, element);\n",
              "        const docLink = document.createElement('div');\n",
              "        docLink.innerHTML = docLinkHtml;\n",
              "        element.appendChild(docLink);\n",
              "      }\n",
              "    </script>\n",
              "  </div>\n",
              "\n",
              "\n",
              "<div id=\"df-a3dd41e8-efe0-43cd-9a6e-09e512d916b0\">\n",
              "  <button class=\"colab-df-quickchart\" onclick=\"quickchart('df-a3dd41e8-efe0-43cd-9a6e-09e512d916b0')\"\n",
              "            title=\"Suggest charts\"\n",
              "            style=\"display:none;\">\n",
              "\n",
              "<svg xmlns=\"http://www.w3.org/2000/svg\" height=\"24px\"viewBox=\"0 0 24 24\"\n",
              "     width=\"24px\">\n",
              "    <g>\n",
              "        <path d=\"M19 3H5c-1.1 0-2 .9-2 2v14c0 1.1.9 2 2 2h14c1.1 0 2-.9 2-2V5c0-1.1-.9-2-2-2zM9 17H7v-7h2v7zm4 0h-2V7h2v10zm4 0h-2v-4h2v4z\"/>\n",
              "    </g>\n",
              "</svg>\n",
              "  </button>\n",
              "\n",
              "<style>\n",
              "  .colab-df-quickchart {\n",
              "      --bg-color: #E8F0FE;\n",
              "      --fill-color: #1967D2;\n",
              "      --hover-bg-color: #E2EBFA;\n",
              "      --hover-fill-color: #174EA6;\n",
              "      --disabled-fill-color: #AAA;\n",
              "      --disabled-bg-color: #DDD;\n",
              "  }\n",
              "\n",
              "  [theme=dark] .colab-df-quickchart {\n",
              "      --bg-color: #3B4455;\n",
              "      --fill-color: #D2E3FC;\n",
              "      --hover-bg-color: #434B5C;\n",
              "      --hover-fill-color: #FFFFFF;\n",
              "      --disabled-bg-color: #3B4455;\n",
              "      --disabled-fill-color: #666;\n",
              "  }\n",
              "\n",
              "  .colab-df-quickchart {\n",
              "    background-color: var(--bg-color);\n",
              "    border: none;\n",
              "    border-radius: 50%;\n",
              "    cursor: pointer;\n",
              "    display: none;\n",
              "    fill: var(--fill-color);\n",
              "    height: 32px;\n",
              "    padding: 0;\n",
              "    width: 32px;\n",
              "  }\n",
              "\n",
              "  .colab-df-quickchart:hover {\n",
              "    background-color: var(--hover-bg-color);\n",
              "    box-shadow: 0 1px 2px rgba(60, 64, 67, 0.3), 0 1px 3px 1px rgba(60, 64, 67, 0.15);\n",
              "    fill: var(--button-hover-fill-color);\n",
              "  }\n",
              "\n",
              "  .colab-df-quickchart-complete:disabled,\n",
              "  .colab-df-quickchart-complete:disabled:hover {\n",
              "    background-color: var(--disabled-bg-color);\n",
              "    fill: var(--disabled-fill-color);\n",
              "    box-shadow: none;\n",
              "  }\n",
              "\n",
              "  .colab-df-spinner {\n",
              "    border: 2px solid var(--fill-color);\n",
              "    border-color: transparent;\n",
              "    border-bottom-color: var(--fill-color);\n",
              "    animation:\n",
              "      spin 1s steps(1) infinite;\n",
              "  }\n",
              "\n",
              "  @keyframes spin {\n",
              "    0% {\n",
              "      border-color: transparent;\n",
              "      border-bottom-color: var(--fill-color);\n",
              "      border-left-color: var(--fill-color);\n",
              "    }\n",
              "    20% {\n",
              "      border-color: transparent;\n",
              "      border-left-color: var(--fill-color);\n",
              "      border-top-color: var(--fill-color);\n",
              "    }\n",
              "    30% {\n",
              "      border-color: transparent;\n",
              "      border-left-color: var(--fill-color);\n",
              "      border-top-color: var(--fill-color);\n",
              "      border-right-color: var(--fill-color);\n",
              "    }\n",
              "    40% {\n",
              "      border-color: transparent;\n",
              "      border-right-color: var(--fill-color);\n",
              "      border-top-color: var(--fill-color);\n",
              "    }\n",
              "    60% {\n",
              "      border-color: transparent;\n",
              "      border-right-color: var(--fill-color);\n",
              "    }\n",
              "    80% {\n",
              "      border-color: transparent;\n",
              "      border-right-color: var(--fill-color);\n",
              "      border-bottom-color: var(--fill-color);\n",
              "    }\n",
              "    90% {\n",
              "      border-color: transparent;\n",
              "      border-bottom-color: var(--fill-color);\n",
              "    }\n",
              "  }\n",
              "</style>\n",
              "\n",
              "  <script>\n",
              "    async function quickchart(key) {\n",
              "      const quickchartButtonEl =\n",
              "        document.querySelector('#' + key + ' button');\n",
              "      quickchartButtonEl.disabled = true;  // To prevent multiple clicks.\n",
              "      quickchartButtonEl.classList.add('colab-df-spinner');\n",
              "      try {\n",
              "        const charts = await google.colab.kernel.invokeFunction(\n",
              "            'suggestCharts', [key], {});\n",
              "      } catch (error) {\n",
              "        console.error('Error during call to suggestCharts:', error);\n",
              "      }\n",
              "      quickchartButtonEl.classList.remove('colab-df-spinner');\n",
              "      quickchartButtonEl.classList.add('colab-df-quickchart-complete');\n",
              "    }\n",
              "    (() => {\n",
              "      let quickchartButtonEl =\n",
              "        document.querySelector('#df-a3dd41e8-efe0-43cd-9a6e-09e512d916b0 button');\n",
              "      quickchartButtonEl.style.display =\n",
              "        google.colab.kernel.accessAllowed ? 'block' : 'none';\n",
              "    })();\n",
              "  </script>\n",
              "</div>\n",
              "\n",
              "  <div id=\"id_9df2e2d3-abb9-4ef7-8dea-111b8b8ebc4a\">\n",
              "    <style>\n",
              "      .colab-df-generate {\n",
              "        background-color: #E8F0FE;\n",
              "        border: none;\n",
              "        border-radius: 50%;\n",
              "        cursor: pointer;\n",
              "        display: none;\n",
              "        fill: #1967D2;\n",
              "        height: 32px;\n",
              "        padding: 0 0 0 0;\n",
              "        width: 32px;\n",
              "      }\n",
              "\n",
              "      .colab-df-generate:hover {\n",
              "        background-color: #E2EBFA;\n",
              "        box-shadow: 0px 1px 2px rgba(60, 64, 67, 0.3), 0px 1px 3px 1px rgba(60, 64, 67, 0.15);\n",
              "        fill: #174EA6;\n",
              "      }\n",
              "\n",
              "      [theme=dark] .colab-df-generate {\n",
              "        background-color: #3B4455;\n",
              "        fill: #D2E3FC;\n",
              "      }\n",
              "\n",
              "      [theme=dark] .colab-df-generate:hover {\n",
              "        background-color: #434B5C;\n",
              "        box-shadow: 0px 1px 3px 1px rgba(0, 0, 0, 0.15);\n",
              "        filter: drop-shadow(0px 1px 2px rgba(0, 0, 0, 0.3));\n",
              "        fill: #FFFFFF;\n",
              "      }\n",
              "    </style>\n",
              "    <button class=\"colab-df-generate\" onclick=\"generateWithVariable('df')\"\n",
              "            title=\"Generate code using this dataframe.\"\n",
              "            style=\"display:none;\">\n",
              "\n",
              "  <svg xmlns=\"http://www.w3.org/2000/svg\" height=\"24px\"viewBox=\"0 0 24 24\"\n",
              "       width=\"24px\">\n",
              "    <path d=\"M7,19H8.4L18.45,9,17,7.55,7,17.6ZM5,21V16.75L18.45,3.32a2,2,0,0,1,2.83,0l1.4,1.43a1.91,1.91,0,0,1,.58,1.4,1.91,1.91,0,0,1-.58,1.4L9.25,21ZM18.45,9,17,7.55Zm-12,3A5.31,5.31,0,0,0,4.9,8.1,5.31,5.31,0,0,0,1,6.5,5.31,5.31,0,0,0,4.9,4.9,5.31,5.31,0,0,0,6.5,1,5.31,5.31,0,0,0,8.1,4.9,5.31,5.31,0,0,0,12,6.5,5.46,5.46,0,0,0,6.5,12Z\"/>\n",
              "  </svg>\n",
              "    </button>\n",
              "    <script>\n",
              "      (() => {\n",
              "      const buttonEl =\n",
              "        document.querySelector('#id_9df2e2d3-abb9-4ef7-8dea-111b8b8ebc4a button.colab-df-generate');\n",
              "      buttonEl.style.display =\n",
              "        google.colab.kernel.accessAllowed ? 'block' : 'none';\n",
              "\n",
              "      buttonEl.onclick = () => {\n",
              "        google.colab.notebook.generateWithVariable('df');\n",
              "      }\n",
              "      })();\n",
              "    </script>\n",
              "  </div>\n",
              "\n",
              "    </div>\n",
              "  </div>\n"
            ],
            "application/vnd.google.colaboratory.intrinsic+json": {
              "type": "dataframe",
              "variable_name": "df",
              "summary": "{\n  \"name\": \"df\",\n  \"rows\": 13,\n  \"fields\": [\n    {\n      \"column\": \"hudud\",\n      \"properties\": {\n        \"dtype\": \"string\",\n        \"num_unique_values\": 13,\n        \"samples\": [\n          \"Surxondaryo viloyati\",\n          \"Samarqand viloyati\",\n          \"Andijon viloyati\"\n        ],\n        \"semantic_type\": \"\",\n        \"description\": \"\"\n      }\n    },\n    {\n      \"column\": \"markazi\",\n      \"properties\": {\n        \"dtype\": \"string\",\n        \"num_unique_values\": 13,\n        \"samples\": [\n          \"Termiz shahri\",\n          \"Samarqand shahri\",\n          \"Andijon shahri\"\n        ],\n        \"semantic_type\": \"\",\n        \"description\": \"\"\n      }\n    },\n    {\n      \"column\": \"maydoni\",\n      \"properties\": {\n        \"dtype\": \"number\",\n        \"std\": 47224,\n        \"min\": 4200,\n        \"max\": 160000,\n        \"num_unique_values\": 13,\n        \"samples\": [\n          20500,\n          5100,\n          4200\n        ],\n        \"semantic_type\": \"\",\n        \"description\": \"\"\n      }\n    },\n    {\n      \"column\": \"aholisi\",\n      \"properties\": {\n        \"dtype\": \"number\",\n        \"std\": 1003012,\n        \"min\": 648100,\n        \"max\": 4450000,\n        \"num_unique_values\": 12,\n        \"samples\": [\n          1676000,\n          648100,\n          1899000\n        ],\n        \"semantic_type\": \"\",\n        \"description\": \"\"\n      }\n    }\n  ]\n}"
            }
          },
          "metadata": {},
          "execution_count": 183
        }
      ],
      "source": [
        "# Javobni shuyerga yozing\n",
        "data = {\n",
        "    'hudud': mas2,\n",
        "    'markazi':['Andijon shahri', 'Buxoro shahri', 'Fargona shahri', 'Jizzax shahri', 'Urganch shahri', 'Namangan shahri', 'Navoiy shahri', 'Qarshi shahri', 'Nukus shahri', 'Samarqand shahri', 'Guliston shahri', 'Termiz shahri', 'Nurafshon shahri'],\n",
        "    'maydoni': sr1.sum(),\n",
        "    'aholisi': oltinchi.values\n",
        "}\n",
        "df = pd.DataFrame(data)\n",
        "df"
      ]
    },
    {
      "cell_type": "markdown",
      "metadata": {
        "id": "PvWyv3g4sM6C"
      },
      "source": [
        "### **2-mashq.** Yuqoridagi df ning yuqorisidan 7 ta qator chiqaring"
      ]
    },
    {
      "cell_type": "code",
      "execution_count": 184,
      "metadata": {
        "id": "qoEj1gjGsM6D",
        "outputId": "c7bc0681-ff9a-4384-cd56-3f8a45848d1e",
        "colab": {
          "base_uri": "https://localhost:8080/",
          "height": 269
        }
      },
      "outputs": [
        {
          "output_type": "execute_result",
          "data": {
            "text/plain": [
              "               hudud          markazi  maydoni  aholisi\n",
              "0   Andijon viloyati   Andijon shahri     4200  1899000\n",
              "1    Buxoro viloyati    Buxoro shahri    39400  1384700\n",
              "2   Fargona viloyati   Fargona shahri     6800  2597000\n",
              "3    Jizzax viloyati    Jizzax shahri     6300   910500\n",
              "4    Xorazm viloyati   Urganch shahri     7900  1200000\n",
              "5  Namangan viloyati  Namangan shahri   110800  1862000\n",
              "6    Navoiy viloyati    Navoiy shahri    28400   767500"
            ],
            "text/html": [
              "\n",
              "  <div id=\"df-17940261-ae5f-4d98-82e7-f33b6ba772fb\" class=\"colab-df-container\">\n",
              "    <div>\n",
              "<style scoped>\n",
              "    .dataframe tbody tr th:only-of-type {\n",
              "        vertical-align: middle;\n",
              "    }\n",
              "\n",
              "    .dataframe tbody tr th {\n",
              "        vertical-align: top;\n",
              "    }\n",
              "\n",
              "    .dataframe thead th {\n",
              "        text-align: right;\n",
              "    }\n",
              "</style>\n",
              "<table border=\"1\" class=\"dataframe\">\n",
              "  <thead>\n",
              "    <tr style=\"text-align: right;\">\n",
              "      <th></th>\n",
              "      <th>hudud</th>\n",
              "      <th>markazi</th>\n",
              "      <th>maydoni</th>\n",
              "      <th>aholisi</th>\n",
              "    </tr>\n",
              "  </thead>\n",
              "  <tbody>\n",
              "    <tr>\n",
              "      <th>0</th>\n",
              "      <td>Andijon viloyati</td>\n",
              "      <td>Andijon shahri</td>\n",
              "      <td>4200</td>\n",
              "      <td>1899000</td>\n",
              "    </tr>\n",
              "    <tr>\n",
              "      <th>1</th>\n",
              "      <td>Buxoro viloyati</td>\n",
              "      <td>Buxoro shahri</td>\n",
              "      <td>39400</td>\n",
              "      <td>1384700</td>\n",
              "    </tr>\n",
              "    <tr>\n",
              "      <th>2</th>\n",
              "      <td>Fargona viloyati</td>\n",
              "      <td>Fargona shahri</td>\n",
              "      <td>6800</td>\n",
              "      <td>2597000</td>\n",
              "    </tr>\n",
              "    <tr>\n",
              "      <th>3</th>\n",
              "      <td>Jizzax viloyati</td>\n",
              "      <td>Jizzax shahri</td>\n",
              "      <td>6300</td>\n",
              "      <td>910500</td>\n",
              "    </tr>\n",
              "    <tr>\n",
              "      <th>4</th>\n",
              "      <td>Xorazm viloyati</td>\n",
              "      <td>Urganch shahri</td>\n",
              "      <td>7900</td>\n",
              "      <td>1200000</td>\n",
              "    </tr>\n",
              "    <tr>\n",
              "      <th>5</th>\n",
              "      <td>Namangan viloyati</td>\n",
              "      <td>Namangan shahri</td>\n",
              "      <td>110800</td>\n",
              "      <td>1862000</td>\n",
              "    </tr>\n",
              "    <tr>\n",
              "      <th>6</th>\n",
              "      <td>Navoiy viloyati</td>\n",
              "      <td>Navoiy shahri</td>\n",
              "      <td>28400</td>\n",
              "      <td>767500</td>\n",
              "    </tr>\n",
              "  </tbody>\n",
              "</table>\n",
              "</div>\n",
              "    <div class=\"colab-df-buttons\">\n",
              "\n",
              "  <div class=\"colab-df-container\">\n",
              "    <button class=\"colab-df-convert\" onclick=\"convertToInteractive('df-17940261-ae5f-4d98-82e7-f33b6ba772fb')\"\n",
              "            title=\"Convert this dataframe to an interactive table.\"\n",
              "            style=\"display:none;\">\n",
              "\n",
              "  <svg xmlns=\"http://www.w3.org/2000/svg\" height=\"24px\" viewBox=\"0 -960 960 960\">\n",
              "    <path d=\"M120-120v-720h720v720H120Zm60-500h600v-160H180v160Zm220 220h160v-160H400v160Zm0 220h160v-160H400v160ZM180-400h160v-160H180v160Zm440 0h160v-160H620v160ZM180-180h160v-160H180v160Zm440 0h160v-160H620v160Z\"/>\n",
              "  </svg>\n",
              "    </button>\n",
              "\n",
              "  <style>\n",
              "    .colab-df-container {\n",
              "      display:flex;\n",
              "      gap: 12px;\n",
              "    }\n",
              "\n",
              "    .colab-df-convert {\n",
              "      background-color: #E8F0FE;\n",
              "      border: none;\n",
              "      border-radius: 50%;\n",
              "      cursor: pointer;\n",
              "      display: none;\n",
              "      fill: #1967D2;\n",
              "      height: 32px;\n",
              "      padding: 0 0 0 0;\n",
              "      width: 32px;\n",
              "    }\n",
              "\n",
              "    .colab-df-convert:hover {\n",
              "      background-color: #E2EBFA;\n",
              "      box-shadow: 0px 1px 2px rgba(60, 64, 67, 0.3), 0px 1px 3px 1px rgba(60, 64, 67, 0.15);\n",
              "      fill: #174EA6;\n",
              "    }\n",
              "\n",
              "    .colab-df-buttons div {\n",
              "      margin-bottom: 4px;\n",
              "    }\n",
              "\n",
              "    [theme=dark] .colab-df-convert {\n",
              "      background-color: #3B4455;\n",
              "      fill: #D2E3FC;\n",
              "    }\n",
              "\n",
              "    [theme=dark] .colab-df-convert:hover {\n",
              "      background-color: #434B5C;\n",
              "      box-shadow: 0px 1px 3px 1px rgba(0, 0, 0, 0.15);\n",
              "      filter: drop-shadow(0px 1px 2px rgba(0, 0, 0, 0.3));\n",
              "      fill: #FFFFFF;\n",
              "    }\n",
              "  </style>\n",
              "\n",
              "    <script>\n",
              "      const buttonEl =\n",
              "        document.querySelector('#df-17940261-ae5f-4d98-82e7-f33b6ba772fb button.colab-df-convert');\n",
              "      buttonEl.style.display =\n",
              "        google.colab.kernel.accessAllowed ? 'block' : 'none';\n",
              "\n",
              "      async function convertToInteractive(key) {\n",
              "        const element = document.querySelector('#df-17940261-ae5f-4d98-82e7-f33b6ba772fb');\n",
              "        const dataTable =\n",
              "          await google.colab.kernel.invokeFunction('convertToInteractive',\n",
              "                                                    [key], {});\n",
              "        if (!dataTable) return;\n",
              "\n",
              "        const docLinkHtml = 'Like what you see? Visit the ' +\n",
              "          '<a target=\"_blank\" href=https://colab.research.google.com/notebooks/data_table.ipynb>data table notebook</a>'\n",
              "          + ' to learn more about interactive tables.';\n",
              "        element.innerHTML = '';\n",
              "        dataTable['output_type'] = 'display_data';\n",
              "        await google.colab.output.renderOutput(dataTable, element);\n",
              "        const docLink = document.createElement('div');\n",
              "        docLink.innerHTML = docLinkHtml;\n",
              "        element.appendChild(docLink);\n",
              "      }\n",
              "    </script>\n",
              "  </div>\n",
              "\n",
              "\n",
              "<div id=\"df-42e31a80-9278-47b8-98ac-52640ab64ed4\">\n",
              "  <button class=\"colab-df-quickchart\" onclick=\"quickchart('df-42e31a80-9278-47b8-98ac-52640ab64ed4')\"\n",
              "            title=\"Suggest charts\"\n",
              "            style=\"display:none;\">\n",
              "\n",
              "<svg xmlns=\"http://www.w3.org/2000/svg\" height=\"24px\"viewBox=\"0 0 24 24\"\n",
              "     width=\"24px\">\n",
              "    <g>\n",
              "        <path d=\"M19 3H5c-1.1 0-2 .9-2 2v14c0 1.1.9 2 2 2h14c1.1 0 2-.9 2-2V5c0-1.1-.9-2-2-2zM9 17H7v-7h2v7zm4 0h-2V7h2v10zm4 0h-2v-4h2v4z\"/>\n",
              "    </g>\n",
              "</svg>\n",
              "  </button>\n",
              "\n",
              "<style>\n",
              "  .colab-df-quickchart {\n",
              "      --bg-color: #E8F0FE;\n",
              "      --fill-color: #1967D2;\n",
              "      --hover-bg-color: #E2EBFA;\n",
              "      --hover-fill-color: #174EA6;\n",
              "      --disabled-fill-color: #AAA;\n",
              "      --disabled-bg-color: #DDD;\n",
              "  }\n",
              "\n",
              "  [theme=dark] .colab-df-quickchart {\n",
              "      --bg-color: #3B4455;\n",
              "      --fill-color: #D2E3FC;\n",
              "      --hover-bg-color: #434B5C;\n",
              "      --hover-fill-color: #FFFFFF;\n",
              "      --disabled-bg-color: #3B4455;\n",
              "      --disabled-fill-color: #666;\n",
              "  }\n",
              "\n",
              "  .colab-df-quickchart {\n",
              "    background-color: var(--bg-color);\n",
              "    border: none;\n",
              "    border-radius: 50%;\n",
              "    cursor: pointer;\n",
              "    display: none;\n",
              "    fill: var(--fill-color);\n",
              "    height: 32px;\n",
              "    padding: 0;\n",
              "    width: 32px;\n",
              "  }\n",
              "\n",
              "  .colab-df-quickchart:hover {\n",
              "    background-color: var(--hover-bg-color);\n",
              "    box-shadow: 0 1px 2px rgba(60, 64, 67, 0.3), 0 1px 3px 1px rgba(60, 64, 67, 0.15);\n",
              "    fill: var(--button-hover-fill-color);\n",
              "  }\n",
              "\n",
              "  .colab-df-quickchart-complete:disabled,\n",
              "  .colab-df-quickchart-complete:disabled:hover {\n",
              "    background-color: var(--disabled-bg-color);\n",
              "    fill: var(--disabled-fill-color);\n",
              "    box-shadow: none;\n",
              "  }\n",
              "\n",
              "  .colab-df-spinner {\n",
              "    border: 2px solid var(--fill-color);\n",
              "    border-color: transparent;\n",
              "    border-bottom-color: var(--fill-color);\n",
              "    animation:\n",
              "      spin 1s steps(1) infinite;\n",
              "  }\n",
              "\n",
              "  @keyframes spin {\n",
              "    0% {\n",
              "      border-color: transparent;\n",
              "      border-bottom-color: var(--fill-color);\n",
              "      border-left-color: var(--fill-color);\n",
              "    }\n",
              "    20% {\n",
              "      border-color: transparent;\n",
              "      border-left-color: var(--fill-color);\n",
              "      border-top-color: var(--fill-color);\n",
              "    }\n",
              "    30% {\n",
              "      border-color: transparent;\n",
              "      border-left-color: var(--fill-color);\n",
              "      border-top-color: var(--fill-color);\n",
              "      border-right-color: var(--fill-color);\n",
              "    }\n",
              "    40% {\n",
              "      border-color: transparent;\n",
              "      border-right-color: var(--fill-color);\n",
              "      border-top-color: var(--fill-color);\n",
              "    }\n",
              "    60% {\n",
              "      border-color: transparent;\n",
              "      border-right-color: var(--fill-color);\n",
              "    }\n",
              "    80% {\n",
              "      border-color: transparent;\n",
              "      border-right-color: var(--fill-color);\n",
              "      border-bottom-color: var(--fill-color);\n",
              "    }\n",
              "    90% {\n",
              "      border-color: transparent;\n",
              "      border-bottom-color: var(--fill-color);\n",
              "    }\n",
              "  }\n",
              "</style>\n",
              "\n",
              "  <script>\n",
              "    async function quickchart(key) {\n",
              "      const quickchartButtonEl =\n",
              "        document.querySelector('#' + key + ' button');\n",
              "      quickchartButtonEl.disabled = true;  // To prevent multiple clicks.\n",
              "      quickchartButtonEl.classList.add('colab-df-spinner');\n",
              "      try {\n",
              "        const charts = await google.colab.kernel.invokeFunction(\n",
              "            'suggestCharts', [key], {});\n",
              "      } catch (error) {\n",
              "        console.error('Error during call to suggestCharts:', error);\n",
              "      }\n",
              "      quickchartButtonEl.classList.remove('colab-df-spinner');\n",
              "      quickchartButtonEl.classList.add('colab-df-quickchart-complete');\n",
              "    }\n",
              "    (() => {\n",
              "      let quickchartButtonEl =\n",
              "        document.querySelector('#df-42e31a80-9278-47b8-98ac-52640ab64ed4 button');\n",
              "      quickchartButtonEl.style.display =\n",
              "        google.colab.kernel.accessAllowed ? 'block' : 'none';\n",
              "    })();\n",
              "  </script>\n",
              "</div>\n",
              "\n",
              "    </div>\n",
              "  </div>\n"
            ],
            "application/vnd.google.colaboratory.intrinsic+json": {
              "type": "dataframe",
              "variable_name": "df",
              "summary": "{\n  \"name\": \"df\",\n  \"rows\": 13,\n  \"fields\": [\n    {\n      \"column\": \"hudud\",\n      \"properties\": {\n        \"dtype\": \"string\",\n        \"num_unique_values\": 13,\n        \"samples\": [\n          \"Surxondaryo viloyati\",\n          \"Samarqand viloyati\",\n          \"Andijon viloyati\"\n        ],\n        \"semantic_type\": \"\",\n        \"description\": \"\"\n      }\n    },\n    {\n      \"column\": \"markazi\",\n      \"properties\": {\n        \"dtype\": \"string\",\n        \"num_unique_values\": 13,\n        \"samples\": [\n          \"Termiz shahri\",\n          \"Samarqand shahri\",\n          \"Andijon shahri\"\n        ],\n        \"semantic_type\": \"\",\n        \"description\": \"\"\n      }\n    },\n    {\n      \"column\": \"maydoni\",\n      \"properties\": {\n        \"dtype\": \"number\",\n        \"std\": 47224,\n        \"min\": 4200,\n        \"max\": 160000,\n        \"num_unique_values\": 13,\n        \"samples\": [\n          20500,\n          5100,\n          4200\n        ],\n        \"semantic_type\": \"\",\n        \"description\": \"\"\n      }\n    },\n    {\n      \"column\": \"aholisi\",\n      \"properties\": {\n        \"dtype\": \"number\",\n        \"std\": 1003012,\n        \"min\": 648100,\n        \"max\": 4450000,\n        \"num_unique_values\": 12,\n        \"samples\": [\n          1676000,\n          648100,\n          1899000\n        ],\n        \"semantic_type\": \"\",\n        \"description\": \"\"\n      }\n    }\n  ]\n}"
            }
          },
          "metadata": {},
          "execution_count": 184
        }
      ],
      "source": [
        "# Javobni shuyerga yozing\n",
        "df.head(7)"
      ]
    },
    {
      "cell_type": "markdown",
      "metadata": {
        "id": "Jgkr-IQ8sM6F"
      },
      "source": [
        "### **3-mashq.** Yuqoridagi df dan tasodifiy 5 ta qator chiqaring"
      ]
    },
    {
      "cell_type": "code",
      "execution_count": 185,
      "metadata": {
        "id": "xhg8sIBMsM6G",
        "outputId": "c0770b77-8d75-41d8-8d53-c64cede58753",
        "colab": {
          "base_uri": "https://localhost:8080/",
          "height": 206
        }
      },
      "outputs": [
        {
          "output_type": "execute_result",
          "data": {
            "text/plain": [
              "                         hudud         markazi  maydoni  aholisi\n",
              "2             Fargona viloyati  Fargona shahri     6800  2597000\n",
              "6              Navoiy viloyati   Navoiy shahri    28400   767500\n",
              "4              Xorazm viloyati  Urganch shahri     7900  1200000\n",
              "3              Jizzax viloyati   Jizzax shahri     6300   910500\n",
              "8  Qoraqalpogiston Respubliasi    Nukus shahri    16400  1200000"
            ],
            "text/html": [
              "\n",
              "  <div id=\"df-9187ac5b-5399-408e-855d-f425f9802fc1\" class=\"colab-df-container\">\n",
              "    <div>\n",
              "<style scoped>\n",
              "    .dataframe tbody tr th:only-of-type {\n",
              "        vertical-align: middle;\n",
              "    }\n",
              "\n",
              "    .dataframe tbody tr th {\n",
              "        vertical-align: top;\n",
              "    }\n",
              "\n",
              "    .dataframe thead th {\n",
              "        text-align: right;\n",
              "    }\n",
              "</style>\n",
              "<table border=\"1\" class=\"dataframe\">\n",
              "  <thead>\n",
              "    <tr style=\"text-align: right;\">\n",
              "      <th></th>\n",
              "      <th>hudud</th>\n",
              "      <th>markazi</th>\n",
              "      <th>maydoni</th>\n",
              "      <th>aholisi</th>\n",
              "    </tr>\n",
              "  </thead>\n",
              "  <tbody>\n",
              "    <tr>\n",
              "      <th>2</th>\n",
              "      <td>Fargona viloyati</td>\n",
              "      <td>Fargona shahri</td>\n",
              "      <td>6800</td>\n",
              "      <td>2597000</td>\n",
              "    </tr>\n",
              "    <tr>\n",
              "      <th>6</th>\n",
              "      <td>Navoiy viloyati</td>\n",
              "      <td>Navoiy shahri</td>\n",
              "      <td>28400</td>\n",
              "      <td>767500</td>\n",
              "    </tr>\n",
              "    <tr>\n",
              "      <th>4</th>\n",
              "      <td>Xorazm viloyati</td>\n",
              "      <td>Urganch shahri</td>\n",
              "      <td>7900</td>\n",
              "      <td>1200000</td>\n",
              "    </tr>\n",
              "    <tr>\n",
              "      <th>3</th>\n",
              "      <td>Jizzax viloyati</td>\n",
              "      <td>Jizzax shahri</td>\n",
              "      <td>6300</td>\n",
              "      <td>910500</td>\n",
              "    </tr>\n",
              "    <tr>\n",
              "      <th>8</th>\n",
              "      <td>Qoraqalpogiston Respubliasi</td>\n",
              "      <td>Nukus shahri</td>\n",
              "      <td>16400</td>\n",
              "      <td>1200000</td>\n",
              "    </tr>\n",
              "  </tbody>\n",
              "</table>\n",
              "</div>\n",
              "    <div class=\"colab-df-buttons\">\n",
              "\n",
              "  <div class=\"colab-df-container\">\n",
              "    <button class=\"colab-df-convert\" onclick=\"convertToInteractive('df-9187ac5b-5399-408e-855d-f425f9802fc1')\"\n",
              "            title=\"Convert this dataframe to an interactive table.\"\n",
              "            style=\"display:none;\">\n",
              "\n",
              "  <svg xmlns=\"http://www.w3.org/2000/svg\" height=\"24px\" viewBox=\"0 -960 960 960\">\n",
              "    <path d=\"M120-120v-720h720v720H120Zm60-500h600v-160H180v160Zm220 220h160v-160H400v160Zm0 220h160v-160H400v160ZM180-400h160v-160H180v160Zm440 0h160v-160H620v160ZM180-180h160v-160H180v160Zm440 0h160v-160H620v160Z\"/>\n",
              "  </svg>\n",
              "    </button>\n",
              "\n",
              "  <style>\n",
              "    .colab-df-container {\n",
              "      display:flex;\n",
              "      gap: 12px;\n",
              "    }\n",
              "\n",
              "    .colab-df-convert {\n",
              "      background-color: #E8F0FE;\n",
              "      border: none;\n",
              "      border-radius: 50%;\n",
              "      cursor: pointer;\n",
              "      display: none;\n",
              "      fill: #1967D2;\n",
              "      height: 32px;\n",
              "      padding: 0 0 0 0;\n",
              "      width: 32px;\n",
              "    }\n",
              "\n",
              "    .colab-df-convert:hover {\n",
              "      background-color: #E2EBFA;\n",
              "      box-shadow: 0px 1px 2px rgba(60, 64, 67, 0.3), 0px 1px 3px 1px rgba(60, 64, 67, 0.15);\n",
              "      fill: #174EA6;\n",
              "    }\n",
              "\n",
              "    .colab-df-buttons div {\n",
              "      margin-bottom: 4px;\n",
              "    }\n",
              "\n",
              "    [theme=dark] .colab-df-convert {\n",
              "      background-color: #3B4455;\n",
              "      fill: #D2E3FC;\n",
              "    }\n",
              "\n",
              "    [theme=dark] .colab-df-convert:hover {\n",
              "      background-color: #434B5C;\n",
              "      box-shadow: 0px 1px 3px 1px rgba(0, 0, 0, 0.15);\n",
              "      filter: drop-shadow(0px 1px 2px rgba(0, 0, 0, 0.3));\n",
              "      fill: #FFFFFF;\n",
              "    }\n",
              "  </style>\n",
              "\n",
              "    <script>\n",
              "      const buttonEl =\n",
              "        document.querySelector('#df-9187ac5b-5399-408e-855d-f425f9802fc1 button.colab-df-convert');\n",
              "      buttonEl.style.display =\n",
              "        google.colab.kernel.accessAllowed ? 'block' : 'none';\n",
              "\n",
              "      async function convertToInteractive(key) {\n",
              "        const element = document.querySelector('#df-9187ac5b-5399-408e-855d-f425f9802fc1');\n",
              "        const dataTable =\n",
              "          await google.colab.kernel.invokeFunction('convertToInteractive',\n",
              "                                                    [key], {});\n",
              "        if (!dataTable) return;\n",
              "\n",
              "        const docLinkHtml = 'Like what you see? Visit the ' +\n",
              "          '<a target=\"_blank\" href=https://colab.research.google.com/notebooks/data_table.ipynb>data table notebook</a>'\n",
              "          + ' to learn more about interactive tables.';\n",
              "        element.innerHTML = '';\n",
              "        dataTable['output_type'] = 'display_data';\n",
              "        await google.colab.output.renderOutput(dataTable, element);\n",
              "        const docLink = document.createElement('div');\n",
              "        docLink.innerHTML = docLinkHtml;\n",
              "        element.appendChild(docLink);\n",
              "      }\n",
              "    </script>\n",
              "  </div>\n",
              "\n",
              "\n",
              "<div id=\"df-e651e419-2d04-4603-a85b-a9f69e0875c1\">\n",
              "  <button class=\"colab-df-quickchart\" onclick=\"quickchart('df-e651e419-2d04-4603-a85b-a9f69e0875c1')\"\n",
              "            title=\"Suggest charts\"\n",
              "            style=\"display:none;\">\n",
              "\n",
              "<svg xmlns=\"http://www.w3.org/2000/svg\" height=\"24px\"viewBox=\"0 0 24 24\"\n",
              "     width=\"24px\">\n",
              "    <g>\n",
              "        <path d=\"M19 3H5c-1.1 0-2 .9-2 2v14c0 1.1.9 2 2 2h14c1.1 0 2-.9 2-2V5c0-1.1-.9-2-2-2zM9 17H7v-7h2v7zm4 0h-2V7h2v10zm4 0h-2v-4h2v4z\"/>\n",
              "    </g>\n",
              "</svg>\n",
              "  </button>\n",
              "\n",
              "<style>\n",
              "  .colab-df-quickchart {\n",
              "      --bg-color: #E8F0FE;\n",
              "      --fill-color: #1967D2;\n",
              "      --hover-bg-color: #E2EBFA;\n",
              "      --hover-fill-color: #174EA6;\n",
              "      --disabled-fill-color: #AAA;\n",
              "      --disabled-bg-color: #DDD;\n",
              "  }\n",
              "\n",
              "  [theme=dark] .colab-df-quickchart {\n",
              "      --bg-color: #3B4455;\n",
              "      --fill-color: #D2E3FC;\n",
              "      --hover-bg-color: #434B5C;\n",
              "      --hover-fill-color: #FFFFFF;\n",
              "      --disabled-bg-color: #3B4455;\n",
              "      --disabled-fill-color: #666;\n",
              "  }\n",
              "\n",
              "  .colab-df-quickchart {\n",
              "    background-color: var(--bg-color);\n",
              "    border: none;\n",
              "    border-radius: 50%;\n",
              "    cursor: pointer;\n",
              "    display: none;\n",
              "    fill: var(--fill-color);\n",
              "    height: 32px;\n",
              "    padding: 0;\n",
              "    width: 32px;\n",
              "  }\n",
              "\n",
              "  .colab-df-quickchart:hover {\n",
              "    background-color: var(--hover-bg-color);\n",
              "    box-shadow: 0 1px 2px rgba(60, 64, 67, 0.3), 0 1px 3px 1px rgba(60, 64, 67, 0.15);\n",
              "    fill: var(--button-hover-fill-color);\n",
              "  }\n",
              "\n",
              "  .colab-df-quickchart-complete:disabled,\n",
              "  .colab-df-quickchart-complete:disabled:hover {\n",
              "    background-color: var(--disabled-bg-color);\n",
              "    fill: var(--disabled-fill-color);\n",
              "    box-shadow: none;\n",
              "  }\n",
              "\n",
              "  .colab-df-spinner {\n",
              "    border: 2px solid var(--fill-color);\n",
              "    border-color: transparent;\n",
              "    border-bottom-color: var(--fill-color);\n",
              "    animation:\n",
              "      spin 1s steps(1) infinite;\n",
              "  }\n",
              "\n",
              "  @keyframes spin {\n",
              "    0% {\n",
              "      border-color: transparent;\n",
              "      border-bottom-color: var(--fill-color);\n",
              "      border-left-color: var(--fill-color);\n",
              "    }\n",
              "    20% {\n",
              "      border-color: transparent;\n",
              "      border-left-color: var(--fill-color);\n",
              "      border-top-color: var(--fill-color);\n",
              "    }\n",
              "    30% {\n",
              "      border-color: transparent;\n",
              "      border-left-color: var(--fill-color);\n",
              "      border-top-color: var(--fill-color);\n",
              "      border-right-color: var(--fill-color);\n",
              "    }\n",
              "    40% {\n",
              "      border-color: transparent;\n",
              "      border-right-color: var(--fill-color);\n",
              "      border-top-color: var(--fill-color);\n",
              "    }\n",
              "    60% {\n",
              "      border-color: transparent;\n",
              "      border-right-color: var(--fill-color);\n",
              "    }\n",
              "    80% {\n",
              "      border-color: transparent;\n",
              "      border-right-color: var(--fill-color);\n",
              "      border-bottom-color: var(--fill-color);\n",
              "    }\n",
              "    90% {\n",
              "      border-color: transparent;\n",
              "      border-bottom-color: var(--fill-color);\n",
              "    }\n",
              "  }\n",
              "</style>\n",
              "\n",
              "  <script>\n",
              "    async function quickchart(key) {\n",
              "      const quickchartButtonEl =\n",
              "        document.querySelector('#' + key + ' button');\n",
              "      quickchartButtonEl.disabled = true;  // To prevent multiple clicks.\n",
              "      quickchartButtonEl.classList.add('colab-df-spinner');\n",
              "      try {\n",
              "        const charts = await google.colab.kernel.invokeFunction(\n",
              "            'suggestCharts', [key], {});\n",
              "      } catch (error) {\n",
              "        console.error('Error during call to suggestCharts:', error);\n",
              "      }\n",
              "      quickchartButtonEl.classList.remove('colab-df-spinner');\n",
              "      quickchartButtonEl.classList.add('colab-df-quickchart-complete');\n",
              "    }\n",
              "    (() => {\n",
              "      let quickchartButtonEl =\n",
              "        document.querySelector('#df-e651e419-2d04-4603-a85b-a9f69e0875c1 button');\n",
              "      quickchartButtonEl.style.display =\n",
              "        google.colab.kernel.accessAllowed ? 'block' : 'none';\n",
              "    })();\n",
              "  </script>\n",
              "</div>\n",
              "\n",
              "    </div>\n",
              "  </div>\n"
            ],
            "application/vnd.google.colaboratory.intrinsic+json": {
              "type": "dataframe",
              "summary": "{\n  \"name\": \"df\",\n  \"rows\": 5,\n  \"fields\": [\n    {\n      \"column\": \"hudud\",\n      \"properties\": {\n        \"dtype\": \"string\",\n        \"num_unique_values\": 5,\n        \"samples\": [\n          \"Navoiy viloyati\",\n          \"Qoraqalpogiston Respubliasi\",\n          \"Xorazm viloyati\"\n        ],\n        \"semantic_type\": \"\",\n        \"description\": \"\"\n      }\n    },\n    {\n      \"column\": \"markazi\",\n      \"properties\": {\n        \"dtype\": \"string\",\n        \"num_unique_values\": 5,\n        \"samples\": [\n          \"Navoiy shahri\",\n          \"Nukus shahri\",\n          \"Urganch shahri\"\n        ],\n        \"semantic_type\": \"\",\n        \"description\": \"\"\n      }\n    },\n    {\n      \"column\": \"maydoni\",\n      \"properties\": {\n        \"dtype\": \"number\",\n        \"std\": 9459,\n        \"min\": 6300,\n        \"max\": 28400,\n        \"num_unique_values\": 5,\n        \"samples\": [\n          28400,\n          16400,\n          7900\n        ],\n        \"semantic_type\": \"\",\n        \"description\": \"\"\n      }\n    },\n    {\n      \"column\": \"aholisi\",\n      \"properties\": {\n        \"dtype\": \"number\",\n        \"std\": 729957,\n        \"min\": 767500,\n        \"max\": 2597000,\n        \"num_unique_values\": 4,\n        \"samples\": [\n          767500,\n          910500,\n          2597000\n        ],\n        \"semantic_type\": \"\",\n        \"description\": \"\"\n      }\n    }\n  ]\n}"
            }
          },
          "metadata": {},
          "execution_count": 185
        }
      ],
      "source": [
        "# Javobni shuyerga yozing\n",
        "df.sample(n=5)"
      ]
    },
    {
      "cell_type": "markdown",
      "metadata": {
        "id": "3QxJrKFBsM6H"
      },
      "source": [
        "### **4-mashq.** Yuqoridagi df ning 'Hudud' va 'Aholisi' ustinlarini alohida df ko'rinishida chiqaring"
      ]
    },
    {
      "cell_type": "code",
      "execution_count": 186,
      "metadata": {
        "id": "4AqmZ60osM6H",
        "outputId": "6cdb0701-27e4-40ec-d5dc-894a954e297c",
        "colab": {
          "base_uri": "https://localhost:8080/"
        }
      },
      "outputs": [
        {
          "output_type": "stream",
          "name": "stdout",
          "text": [
            "0                Andijon viloyati\n",
            "1                 Buxoro viloyati\n",
            "2                Fargona viloyati\n",
            "3                 Jizzax viloyati\n",
            "4                 Xorazm viloyati\n",
            "5               Namangan viloyati\n",
            "6                 Navoiy viloyati\n",
            "7            Qashqadaryo viloyati\n",
            "8     Qoraqalpogiston Respubliasi\n",
            "9              Samarqand viloyati\n",
            "10              Sirdaryo viloyati\n",
            "11           Surxondaryo viloyati\n",
            "12              Toshkent viloyati\n",
            "Name: hudud, dtype: object \n",
            "\n",
            "0     1899000\n",
            "1     1384700\n",
            "2     2597000\n",
            "3      910500\n",
            "4     1200000\n",
            "5     1862000\n",
            "6      767500\n",
            "7     2029000\n",
            "8     1200000\n",
            "9     2322000\n",
            "10     648100\n",
            "11    1676000\n",
            "12    4450000\n",
            "Name: aholisi, dtype: int64\n"
          ]
        }
      ],
      "source": [
        "# Javobni shuyerga yozing\n",
        "df2 = df['hudud']\n",
        "df3 = df['aholisi']\n",
        "print(df2, \"\\n\")\n",
        "print(df3)"
      ]
    },
    {
      "cell_type": "markdown",
      "metadata": {
        "id": "plbh9ADAsM6I"
      },
      "source": [
        "### **5-mashq.** Yuqoridagi df ning `Markaz` ustunini Series obyekti ko'rinishida chiqaring"
      ]
    },
    {
      "cell_type": "code",
      "execution_count": 187,
      "metadata": {
        "id": "sLjlH2pksM6J",
        "outputId": "f9bb681d-6e02-4811-9b86-565387f43b8f",
        "colab": {
          "base_uri": "https://localhost:8080/"
        }
      },
      "outputs": [
        {
          "output_type": "stream",
          "name": "stdout",
          "text": [
            "0       Andijon shahri\n",
            "1        Buxoro shahri\n",
            "2       Fargona shahri\n",
            "3        Jizzax shahri\n",
            "4       Urganch shahri\n",
            "5      Namangan shahri\n",
            "6        Navoiy shahri\n",
            "7        Qarshi shahri\n",
            "8         Nukus shahri\n",
            "9     Samarqand shahri\n",
            "10     Guliston shahri\n",
            "11       Termiz shahri\n",
            "12    Nurafshon shahri\n",
            "Name: markazi, dtype: object\n"
          ]
        }
      ],
      "source": [
        "# Javobni shuyerga yozing\n",
        "sr2 = Series(df['markazi'])\n",
        "print(sr2)"
      ]
    },
    {
      "cell_type": "markdown",
      "metadata": {
        "id": "ju0YakvusM6K"
      },
      "source": [
        "### **6-mashq.** Yuqoridagi df dan aholi soni 1.5 milliondan oshiq bo'lgan hududlarni chiqaring"
      ]
    },
    {
      "cell_type": "code",
      "execution_count": 188,
      "metadata": {
        "id": "0Z4F-7EIsM6K",
        "outputId": "b918d32b-1829-4b25-bf57-03fd2ef03a3f",
        "colab": {
          "base_uri": "https://localhost:8080/"
        }
      },
      "outputs": [
        {
          "output_type": "stream",
          "name": "stdout",
          "text": [
            "                   hudud           markazi  maydoni  aholisi\n",
            "0       Andijon viloyati    Andijon shahri     4200  1899000\n",
            "2       Fargona viloyati    Fargona shahri     6800  2597000\n",
            "5      Namangan viloyati   Namangan shahri   110800  1862000\n",
            "7   Qashqadaryo viloyati     Qarshi shahri   160000  2029000\n",
            "9     Samarqand viloyati  Samarqand shahri     5100  2322000\n",
            "11  Surxondaryo viloyati     Termiz shahri    20500  1676000\n",
            "12     Toshkent viloyati  Nurafshon shahri    15300  4450000\n"
          ]
        }
      ],
      "source": [
        "# Javobni shuyerga yozing\n",
        "print(df[df.aholisi > 1500000])"
      ]
    },
    {
      "cell_type": "markdown",
      "metadata": {
        "id": "RGZ0Ww4EsM6L"
      },
      "source": [
        "### **7-mashq.** Yuqoridagi df dan maydoni 20000kv.km dan kichik bo'lgan hududlarni chiqaring"
      ]
    },
    {
      "cell_type": "code",
      "execution_count": 189,
      "metadata": {
        "id": "yZWcH1_DsM6L",
        "outputId": "08a3b29a-3684-424b-bbfe-e1e1b5730e82",
        "colab": {
          "base_uri": "https://localhost:8080/"
        }
      },
      "outputs": [
        {
          "output_type": "stream",
          "name": "stdout",
          "text": [
            "                          hudud           markazi  maydoni  aholisi\n",
            "0              Andijon viloyati    Andijon shahri     4200  1899000\n",
            "2              Fargona viloyati    Fargona shahri     6800  2597000\n",
            "3               Jizzax viloyati     Jizzax shahri     6300   910500\n",
            "4               Xorazm viloyati    Urganch shahri     7900  1200000\n",
            "8   Qoraqalpogiston Respubliasi      Nukus shahri    16400  1200000\n",
            "9            Samarqand viloyati  Samarqand shahri     5100  2322000\n",
            "12            Toshkent viloyati  Nurafshon shahri    15300  4450000\n"
          ]
        }
      ],
      "source": [
        "# Javobni shuyerga yozing\n",
        "print(df[df.maydoni < 20000])"
      ]
    },
    {
      "cell_type": "markdown",
      "metadata": {
        "id": "iEh9vbMasM6N"
      },
      "source": [
        "### **8-mashq.** Yuqoridagi df dan, Aholisi 2 milliondan oshiq hududlar orasida Samarqand viloyati bor yoki yo'qligini tekshiring"
      ]
    },
    {
      "cell_type": "code",
      "execution_count": 190,
      "metadata": {
        "id": "_HGT-yL-sM6N",
        "colab": {
          "base_uri": "https://localhost:8080/"
        },
        "outputId": "9bfaa1d7-e0bf-458f-a85e-55a9d14160c3"
      },
      "outputs": [
        {
          "output_type": "stream",
          "name": "stdout",
          "text": [
            "Mavjud\n"
          ]
        }
      ],
      "source": [
        "# Javobni shuyerga yozing\n",
        "mashq8 = df.hudud[df.aholisi > 2000000]\n",
        "if 'Samarqand viloyati' in mashq8.values :\n",
        "  print('Mavjud')\n",
        "else :\n",
        "  print('Mavjud emas')"
      ]
    },
    {
      "cell_type": "markdown",
      "metadata": {
        "id": "CUrne0L4sM6O"
      },
      "source": [
        "### **9-mashq.**  Yuqoridagi df dan faqatgina Andijon, Farg'ona va Namangan viloyatlarini ajratib ko'rsating"
      ]
    },
    {
      "cell_type": "code",
      "execution_count": 207,
      "metadata": {
        "id": "lPjR6KbIsM6O",
        "colab": {
          "base_uri": "https://localhost:8080/"
        },
        "outputId": "0d859e36-6767-4298-a482-3074f03f86e6"
      },
      "outputs": [
        {
          "output_type": "stream",
          "name": "stdout",
          "text": [
            "              hudud         markazi  maydoni  aholisi\n",
            "0  Andijon viloyati  Andijon shahri     4200  1899000\n",
            "              hudud         markazi  maydoni  aholisi\n",
            "2  Fargona viloyati  Fargona shahri     6800  2597000\n",
            "               hudud          markazi  maydoni  aholisi\n",
            "5  Namangan viloyati  Namangan shahri   110800  1862000\n"
          ]
        }
      ],
      "source": [
        "# Javobni shuyerga yozing\n",
        "print(df[df.hudud == 'Andijon viloyati'])\n",
        "print(df[df.hudud=='Fargona viloyati'])\n",
        "print(df[df.hudud=='Namangan viloyati'])\n"
      ]
    },
    {
      "cell_type": "markdown",
      "metadata": {
        "id": "tjRa_4q4sM6P"
      },
      "source": [
        "### **10-mashq.**  Yuqoridagi df dan Samarqanda va Toshkent viloyatlarining aholisi va maydonini alohida df ko'rinishida chiqaring `loc` orqali"
      ]
    },
    {
      "cell_type": "code",
      "execution_count": 192,
      "metadata": {
        "id": "0gNpt3GZsM6Q",
        "colab": {
          "base_uri": "https://localhost:8080/",
          "height": 125
        },
        "outputId": "0e315e47-a8ae-458a-a681-e4f12d874a95"
      },
      "outputs": [
        {
          "output_type": "execute_result",
          "data": {
            "text/plain": [
              "                 hudud           markazi  maydoni  aholisi\n",
              "9   Samarqand viloyati  Samarqand shahri     5100  2322000\n",
              "12   Toshkent viloyati  Nurafshon shahri    15300  4450000"
            ],
            "text/html": [
              "\n",
              "  <div id=\"df-472684d6-f737-4805-9fad-cd2dba213f21\" class=\"colab-df-container\">\n",
              "    <div>\n",
              "<style scoped>\n",
              "    .dataframe tbody tr th:only-of-type {\n",
              "        vertical-align: middle;\n",
              "    }\n",
              "\n",
              "    .dataframe tbody tr th {\n",
              "        vertical-align: top;\n",
              "    }\n",
              "\n",
              "    .dataframe thead th {\n",
              "        text-align: right;\n",
              "    }\n",
              "</style>\n",
              "<table border=\"1\" class=\"dataframe\">\n",
              "  <thead>\n",
              "    <tr style=\"text-align: right;\">\n",
              "      <th></th>\n",
              "      <th>hudud</th>\n",
              "      <th>markazi</th>\n",
              "      <th>maydoni</th>\n",
              "      <th>aholisi</th>\n",
              "    </tr>\n",
              "  </thead>\n",
              "  <tbody>\n",
              "    <tr>\n",
              "      <th>9</th>\n",
              "      <td>Samarqand viloyati</td>\n",
              "      <td>Samarqand shahri</td>\n",
              "      <td>5100</td>\n",
              "      <td>2322000</td>\n",
              "    </tr>\n",
              "    <tr>\n",
              "      <th>12</th>\n",
              "      <td>Toshkent viloyati</td>\n",
              "      <td>Nurafshon shahri</td>\n",
              "      <td>15300</td>\n",
              "      <td>4450000</td>\n",
              "    </tr>\n",
              "  </tbody>\n",
              "</table>\n",
              "</div>\n",
              "    <div class=\"colab-df-buttons\">\n",
              "\n",
              "  <div class=\"colab-df-container\">\n",
              "    <button class=\"colab-df-convert\" onclick=\"convertToInteractive('df-472684d6-f737-4805-9fad-cd2dba213f21')\"\n",
              "            title=\"Convert this dataframe to an interactive table.\"\n",
              "            style=\"display:none;\">\n",
              "\n",
              "  <svg xmlns=\"http://www.w3.org/2000/svg\" height=\"24px\" viewBox=\"0 -960 960 960\">\n",
              "    <path d=\"M120-120v-720h720v720H120Zm60-500h600v-160H180v160Zm220 220h160v-160H400v160Zm0 220h160v-160H400v160ZM180-400h160v-160H180v160Zm440 0h160v-160H620v160ZM180-180h160v-160H180v160Zm440 0h160v-160H620v160Z\"/>\n",
              "  </svg>\n",
              "    </button>\n",
              "\n",
              "  <style>\n",
              "    .colab-df-container {\n",
              "      display:flex;\n",
              "      gap: 12px;\n",
              "    }\n",
              "\n",
              "    .colab-df-convert {\n",
              "      background-color: #E8F0FE;\n",
              "      border: none;\n",
              "      border-radius: 50%;\n",
              "      cursor: pointer;\n",
              "      display: none;\n",
              "      fill: #1967D2;\n",
              "      height: 32px;\n",
              "      padding: 0 0 0 0;\n",
              "      width: 32px;\n",
              "    }\n",
              "\n",
              "    .colab-df-convert:hover {\n",
              "      background-color: #E2EBFA;\n",
              "      box-shadow: 0px 1px 2px rgba(60, 64, 67, 0.3), 0px 1px 3px 1px rgba(60, 64, 67, 0.15);\n",
              "      fill: #174EA6;\n",
              "    }\n",
              "\n",
              "    .colab-df-buttons div {\n",
              "      margin-bottom: 4px;\n",
              "    }\n",
              "\n",
              "    [theme=dark] .colab-df-convert {\n",
              "      background-color: #3B4455;\n",
              "      fill: #D2E3FC;\n",
              "    }\n",
              "\n",
              "    [theme=dark] .colab-df-convert:hover {\n",
              "      background-color: #434B5C;\n",
              "      box-shadow: 0px 1px 3px 1px rgba(0, 0, 0, 0.15);\n",
              "      filter: drop-shadow(0px 1px 2px rgba(0, 0, 0, 0.3));\n",
              "      fill: #FFFFFF;\n",
              "    }\n",
              "  </style>\n",
              "\n",
              "    <script>\n",
              "      const buttonEl =\n",
              "        document.querySelector('#df-472684d6-f737-4805-9fad-cd2dba213f21 button.colab-df-convert');\n",
              "      buttonEl.style.display =\n",
              "        google.colab.kernel.accessAllowed ? 'block' : 'none';\n",
              "\n",
              "      async function convertToInteractive(key) {\n",
              "        const element = document.querySelector('#df-472684d6-f737-4805-9fad-cd2dba213f21');\n",
              "        const dataTable =\n",
              "          await google.colab.kernel.invokeFunction('convertToInteractive',\n",
              "                                                    [key], {});\n",
              "        if (!dataTable) return;\n",
              "\n",
              "        const docLinkHtml = 'Like what you see? Visit the ' +\n",
              "          '<a target=\"_blank\" href=https://colab.research.google.com/notebooks/data_table.ipynb>data table notebook</a>'\n",
              "          + ' to learn more about interactive tables.';\n",
              "        element.innerHTML = '';\n",
              "        dataTable['output_type'] = 'display_data';\n",
              "        await google.colab.output.renderOutput(dataTable, element);\n",
              "        const docLink = document.createElement('div');\n",
              "        docLink.innerHTML = docLinkHtml;\n",
              "        element.appendChild(docLink);\n",
              "      }\n",
              "    </script>\n",
              "  </div>\n",
              "\n",
              "\n",
              "<div id=\"df-1b733365-98ac-47af-aadd-91c797cbc07b\">\n",
              "  <button class=\"colab-df-quickchart\" onclick=\"quickchart('df-1b733365-98ac-47af-aadd-91c797cbc07b')\"\n",
              "            title=\"Suggest charts\"\n",
              "            style=\"display:none;\">\n",
              "\n",
              "<svg xmlns=\"http://www.w3.org/2000/svg\" height=\"24px\"viewBox=\"0 0 24 24\"\n",
              "     width=\"24px\">\n",
              "    <g>\n",
              "        <path d=\"M19 3H5c-1.1 0-2 .9-2 2v14c0 1.1.9 2 2 2h14c1.1 0 2-.9 2-2V5c0-1.1-.9-2-2-2zM9 17H7v-7h2v7zm4 0h-2V7h2v10zm4 0h-2v-4h2v4z\"/>\n",
              "    </g>\n",
              "</svg>\n",
              "  </button>\n",
              "\n",
              "<style>\n",
              "  .colab-df-quickchart {\n",
              "      --bg-color: #E8F0FE;\n",
              "      --fill-color: #1967D2;\n",
              "      --hover-bg-color: #E2EBFA;\n",
              "      --hover-fill-color: #174EA6;\n",
              "      --disabled-fill-color: #AAA;\n",
              "      --disabled-bg-color: #DDD;\n",
              "  }\n",
              "\n",
              "  [theme=dark] .colab-df-quickchart {\n",
              "      --bg-color: #3B4455;\n",
              "      --fill-color: #D2E3FC;\n",
              "      --hover-bg-color: #434B5C;\n",
              "      --hover-fill-color: #FFFFFF;\n",
              "      --disabled-bg-color: #3B4455;\n",
              "      --disabled-fill-color: #666;\n",
              "  }\n",
              "\n",
              "  .colab-df-quickchart {\n",
              "    background-color: var(--bg-color);\n",
              "    border: none;\n",
              "    border-radius: 50%;\n",
              "    cursor: pointer;\n",
              "    display: none;\n",
              "    fill: var(--fill-color);\n",
              "    height: 32px;\n",
              "    padding: 0;\n",
              "    width: 32px;\n",
              "  }\n",
              "\n",
              "  .colab-df-quickchart:hover {\n",
              "    background-color: var(--hover-bg-color);\n",
              "    box-shadow: 0 1px 2px rgba(60, 64, 67, 0.3), 0 1px 3px 1px rgba(60, 64, 67, 0.15);\n",
              "    fill: var(--button-hover-fill-color);\n",
              "  }\n",
              "\n",
              "  .colab-df-quickchart-complete:disabled,\n",
              "  .colab-df-quickchart-complete:disabled:hover {\n",
              "    background-color: var(--disabled-bg-color);\n",
              "    fill: var(--disabled-fill-color);\n",
              "    box-shadow: none;\n",
              "  }\n",
              "\n",
              "  .colab-df-spinner {\n",
              "    border: 2px solid var(--fill-color);\n",
              "    border-color: transparent;\n",
              "    border-bottom-color: var(--fill-color);\n",
              "    animation:\n",
              "      spin 1s steps(1) infinite;\n",
              "  }\n",
              "\n",
              "  @keyframes spin {\n",
              "    0% {\n",
              "      border-color: transparent;\n",
              "      border-bottom-color: var(--fill-color);\n",
              "      border-left-color: var(--fill-color);\n",
              "    }\n",
              "    20% {\n",
              "      border-color: transparent;\n",
              "      border-left-color: var(--fill-color);\n",
              "      border-top-color: var(--fill-color);\n",
              "    }\n",
              "    30% {\n",
              "      border-color: transparent;\n",
              "      border-left-color: var(--fill-color);\n",
              "      border-top-color: var(--fill-color);\n",
              "      border-right-color: var(--fill-color);\n",
              "    }\n",
              "    40% {\n",
              "      border-color: transparent;\n",
              "      border-right-color: var(--fill-color);\n",
              "      border-top-color: var(--fill-color);\n",
              "    }\n",
              "    60% {\n",
              "      border-color: transparent;\n",
              "      border-right-color: var(--fill-color);\n",
              "    }\n",
              "    80% {\n",
              "      border-color: transparent;\n",
              "      border-right-color: var(--fill-color);\n",
              "      border-bottom-color: var(--fill-color);\n",
              "    }\n",
              "    90% {\n",
              "      border-color: transparent;\n",
              "      border-bottom-color: var(--fill-color);\n",
              "    }\n",
              "  }\n",
              "</style>\n",
              "\n",
              "  <script>\n",
              "    async function quickchart(key) {\n",
              "      const quickchartButtonEl =\n",
              "        document.querySelector('#' + key + ' button');\n",
              "      quickchartButtonEl.disabled = true;  // To prevent multiple clicks.\n",
              "      quickchartButtonEl.classList.add('colab-df-spinner');\n",
              "      try {\n",
              "        const charts = await google.colab.kernel.invokeFunction(\n",
              "            'suggestCharts', [key], {});\n",
              "      } catch (error) {\n",
              "        console.error('Error during call to suggestCharts:', error);\n",
              "      }\n",
              "      quickchartButtonEl.classList.remove('colab-df-spinner');\n",
              "      quickchartButtonEl.classList.add('colab-df-quickchart-complete');\n",
              "    }\n",
              "    (() => {\n",
              "      let quickchartButtonEl =\n",
              "        document.querySelector('#df-1b733365-98ac-47af-aadd-91c797cbc07b button');\n",
              "      quickchartButtonEl.style.display =\n",
              "        google.colab.kernel.accessAllowed ? 'block' : 'none';\n",
              "    })();\n",
              "  </script>\n",
              "</div>\n",
              "\n",
              "  <div id=\"id_8c1e4cf7-8846-4c51-88c3-06b9dbdc5ce6\">\n",
              "    <style>\n",
              "      .colab-df-generate {\n",
              "        background-color: #E8F0FE;\n",
              "        border: none;\n",
              "        border-radius: 50%;\n",
              "        cursor: pointer;\n",
              "        display: none;\n",
              "        fill: #1967D2;\n",
              "        height: 32px;\n",
              "        padding: 0 0 0 0;\n",
              "        width: 32px;\n",
              "      }\n",
              "\n",
              "      .colab-df-generate:hover {\n",
              "        background-color: #E2EBFA;\n",
              "        box-shadow: 0px 1px 2px rgba(60, 64, 67, 0.3), 0px 1px 3px 1px rgba(60, 64, 67, 0.15);\n",
              "        fill: #174EA6;\n",
              "      }\n",
              "\n",
              "      [theme=dark] .colab-df-generate {\n",
              "        background-color: #3B4455;\n",
              "        fill: #D2E3FC;\n",
              "      }\n",
              "\n",
              "      [theme=dark] .colab-df-generate:hover {\n",
              "        background-color: #434B5C;\n",
              "        box-shadow: 0px 1px 3px 1px rgba(0, 0, 0, 0.15);\n",
              "        filter: drop-shadow(0px 1px 2px rgba(0, 0, 0, 0.3));\n",
              "        fill: #FFFFFF;\n",
              "      }\n",
              "    </style>\n",
              "    <button class=\"colab-df-generate\" onclick=\"generateWithVariable('df1')\"\n",
              "            title=\"Generate code using this dataframe.\"\n",
              "            style=\"display:none;\">\n",
              "\n",
              "  <svg xmlns=\"http://www.w3.org/2000/svg\" height=\"24px\"viewBox=\"0 0 24 24\"\n",
              "       width=\"24px\">\n",
              "    <path d=\"M7,19H8.4L18.45,9,17,7.55,7,17.6ZM5,21V16.75L18.45,3.32a2,2,0,0,1,2.83,0l1.4,1.43a1.91,1.91,0,0,1,.58,1.4,1.91,1.91,0,0,1-.58,1.4L9.25,21ZM18.45,9,17,7.55Zm-12,3A5.31,5.31,0,0,0,4.9,8.1,5.31,5.31,0,0,0,1,6.5,5.31,5.31,0,0,0,4.9,4.9,5.31,5.31,0,0,0,6.5,1,5.31,5.31,0,0,0,8.1,4.9,5.31,5.31,0,0,0,12,6.5,5.46,5.46,0,0,0,6.5,12Z\"/>\n",
              "  </svg>\n",
              "    </button>\n",
              "    <script>\n",
              "      (() => {\n",
              "      const buttonEl =\n",
              "        document.querySelector('#id_8c1e4cf7-8846-4c51-88c3-06b9dbdc5ce6 button.colab-df-generate');\n",
              "      buttonEl.style.display =\n",
              "        google.colab.kernel.accessAllowed ? 'block' : 'none';\n",
              "\n",
              "      buttonEl.onclick = () => {\n",
              "        google.colab.notebook.generateWithVariable('df1');\n",
              "      }\n",
              "      })();\n",
              "    </script>\n",
              "  </div>\n",
              "\n",
              "    </div>\n",
              "  </div>\n"
            ],
            "application/vnd.google.colaboratory.intrinsic+json": {
              "type": "dataframe",
              "variable_name": "df1",
              "summary": "{\n  \"name\": \"df1\",\n  \"rows\": 2,\n  \"fields\": [\n    {\n      \"column\": \"hudud\",\n      \"properties\": {\n        \"dtype\": \"string\",\n        \"num_unique_values\": 2,\n        \"samples\": [\n          \"Toshkent viloyati\",\n          \"Samarqand viloyati\"\n        ],\n        \"semantic_type\": \"\",\n        \"description\": \"\"\n      }\n    },\n    {\n      \"column\": \"markazi\",\n      \"properties\": {\n        \"dtype\": \"string\",\n        \"num_unique_values\": 2,\n        \"samples\": [\n          \"Nurafshon shahri\",\n          \"Samarqand shahri\"\n        ],\n        \"semantic_type\": \"\",\n        \"description\": \"\"\n      }\n    },\n    {\n      \"column\": \"maydoni\",\n      \"properties\": {\n        \"dtype\": \"number\",\n        \"std\": 7212,\n        \"min\": 5100,\n        \"max\": 15300,\n        \"num_unique_values\": 2,\n        \"samples\": [\n          15300,\n          5100\n        ],\n        \"semantic_type\": \"\",\n        \"description\": \"\"\n      }\n    },\n    {\n      \"column\": \"aholisi\",\n      \"properties\": {\n        \"dtype\": \"number\",\n        \"std\": 1504723,\n        \"min\": 2322000,\n        \"max\": 4450000,\n        \"num_unique_values\": 2,\n        \"samples\": [\n          4450000,\n          2322000\n        ],\n        \"semantic_type\": \"\",\n        \"description\": \"\"\n      }\n    }\n  ]\n}"
            }
          },
          "metadata": {},
          "execution_count": 192
        }
      ],
      "source": [
        "# Javobni shuyerga yozing\n",
        "df1 = df.loc[[9,12]]\n",
        "df1"
      ]
    },
    {
      "cell_type": "markdown",
      "metadata": {
        "id": "SGSp-wiYsM6R"
      },
      "source": [
        "### **11-mashq.**  Yuqoridagi df dan yangi df_new DataFrame yarating. Yangi dataframega faqatgina aholisi 1.5mln dan kam bo'lgan hududlarni ko'chiring."
      ]
    },
    {
      "cell_type": "code",
      "execution_count": 193,
      "metadata": {
        "id": "Ti2vp5posM6R",
        "colab": {
          "base_uri": "https://localhost:8080/",
          "height": 238
        },
        "outputId": "972c7653-500d-4d55-b50a-b4c75dfaf846"
      },
      "outputs": [
        {
          "output_type": "execute_result",
          "data": {
            "text/plain": [
              "                          hudud          markazi  maydoni  aholisi\n",
              "1               Buxoro viloyati    Buxoro shahri    39400  1384700\n",
              "3               Jizzax viloyati    Jizzax shahri     6300   910500\n",
              "4               Xorazm viloyati   Urganch shahri     7900  1200000\n",
              "6               Navoiy viloyati    Navoiy shahri    28400   767500\n",
              "8   Qoraqalpogiston Respubliasi     Nukus shahri    16400  1200000\n",
              "10            Sirdaryo viloyati  Guliston shahri    20800   648100"
            ],
            "text/html": [
              "\n",
              "  <div id=\"df-ea1f48d7-7e90-4694-ae9a-fec83dda2f31\" class=\"colab-df-container\">\n",
              "    <div>\n",
              "<style scoped>\n",
              "    .dataframe tbody tr th:only-of-type {\n",
              "        vertical-align: middle;\n",
              "    }\n",
              "\n",
              "    .dataframe tbody tr th {\n",
              "        vertical-align: top;\n",
              "    }\n",
              "\n",
              "    .dataframe thead th {\n",
              "        text-align: right;\n",
              "    }\n",
              "</style>\n",
              "<table border=\"1\" class=\"dataframe\">\n",
              "  <thead>\n",
              "    <tr style=\"text-align: right;\">\n",
              "      <th></th>\n",
              "      <th>hudud</th>\n",
              "      <th>markazi</th>\n",
              "      <th>maydoni</th>\n",
              "      <th>aholisi</th>\n",
              "    </tr>\n",
              "  </thead>\n",
              "  <tbody>\n",
              "    <tr>\n",
              "      <th>1</th>\n",
              "      <td>Buxoro viloyati</td>\n",
              "      <td>Buxoro shahri</td>\n",
              "      <td>39400</td>\n",
              "      <td>1384700</td>\n",
              "    </tr>\n",
              "    <tr>\n",
              "      <th>3</th>\n",
              "      <td>Jizzax viloyati</td>\n",
              "      <td>Jizzax shahri</td>\n",
              "      <td>6300</td>\n",
              "      <td>910500</td>\n",
              "    </tr>\n",
              "    <tr>\n",
              "      <th>4</th>\n",
              "      <td>Xorazm viloyati</td>\n",
              "      <td>Urganch shahri</td>\n",
              "      <td>7900</td>\n",
              "      <td>1200000</td>\n",
              "    </tr>\n",
              "    <tr>\n",
              "      <th>6</th>\n",
              "      <td>Navoiy viloyati</td>\n",
              "      <td>Navoiy shahri</td>\n",
              "      <td>28400</td>\n",
              "      <td>767500</td>\n",
              "    </tr>\n",
              "    <tr>\n",
              "      <th>8</th>\n",
              "      <td>Qoraqalpogiston Respubliasi</td>\n",
              "      <td>Nukus shahri</td>\n",
              "      <td>16400</td>\n",
              "      <td>1200000</td>\n",
              "    </tr>\n",
              "    <tr>\n",
              "      <th>10</th>\n",
              "      <td>Sirdaryo viloyati</td>\n",
              "      <td>Guliston shahri</td>\n",
              "      <td>20800</td>\n",
              "      <td>648100</td>\n",
              "    </tr>\n",
              "  </tbody>\n",
              "</table>\n",
              "</div>\n",
              "    <div class=\"colab-df-buttons\">\n",
              "\n",
              "  <div class=\"colab-df-container\">\n",
              "    <button class=\"colab-df-convert\" onclick=\"convertToInteractive('df-ea1f48d7-7e90-4694-ae9a-fec83dda2f31')\"\n",
              "            title=\"Convert this dataframe to an interactive table.\"\n",
              "            style=\"display:none;\">\n",
              "\n",
              "  <svg xmlns=\"http://www.w3.org/2000/svg\" height=\"24px\" viewBox=\"0 -960 960 960\">\n",
              "    <path d=\"M120-120v-720h720v720H120Zm60-500h600v-160H180v160Zm220 220h160v-160H400v160Zm0 220h160v-160H400v160ZM180-400h160v-160H180v160Zm440 0h160v-160H620v160ZM180-180h160v-160H180v160Zm440 0h160v-160H620v160Z\"/>\n",
              "  </svg>\n",
              "    </button>\n",
              "\n",
              "  <style>\n",
              "    .colab-df-container {\n",
              "      display:flex;\n",
              "      gap: 12px;\n",
              "    }\n",
              "\n",
              "    .colab-df-convert {\n",
              "      background-color: #E8F0FE;\n",
              "      border: none;\n",
              "      border-radius: 50%;\n",
              "      cursor: pointer;\n",
              "      display: none;\n",
              "      fill: #1967D2;\n",
              "      height: 32px;\n",
              "      padding: 0 0 0 0;\n",
              "      width: 32px;\n",
              "    }\n",
              "\n",
              "    .colab-df-convert:hover {\n",
              "      background-color: #E2EBFA;\n",
              "      box-shadow: 0px 1px 2px rgba(60, 64, 67, 0.3), 0px 1px 3px 1px rgba(60, 64, 67, 0.15);\n",
              "      fill: #174EA6;\n",
              "    }\n",
              "\n",
              "    .colab-df-buttons div {\n",
              "      margin-bottom: 4px;\n",
              "    }\n",
              "\n",
              "    [theme=dark] .colab-df-convert {\n",
              "      background-color: #3B4455;\n",
              "      fill: #D2E3FC;\n",
              "    }\n",
              "\n",
              "    [theme=dark] .colab-df-convert:hover {\n",
              "      background-color: #434B5C;\n",
              "      box-shadow: 0px 1px 3px 1px rgba(0, 0, 0, 0.15);\n",
              "      filter: drop-shadow(0px 1px 2px rgba(0, 0, 0, 0.3));\n",
              "      fill: #FFFFFF;\n",
              "    }\n",
              "  </style>\n",
              "\n",
              "    <script>\n",
              "      const buttonEl =\n",
              "        document.querySelector('#df-ea1f48d7-7e90-4694-ae9a-fec83dda2f31 button.colab-df-convert');\n",
              "      buttonEl.style.display =\n",
              "        google.colab.kernel.accessAllowed ? 'block' : 'none';\n",
              "\n",
              "      async function convertToInteractive(key) {\n",
              "        const element = document.querySelector('#df-ea1f48d7-7e90-4694-ae9a-fec83dda2f31');\n",
              "        const dataTable =\n",
              "          await google.colab.kernel.invokeFunction('convertToInteractive',\n",
              "                                                    [key], {});\n",
              "        if (!dataTable) return;\n",
              "\n",
              "        const docLinkHtml = 'Like what you see? Visit the ' +\n",
              "          '<a target=\"_blank\" href=https://colab.research.google.com/notebooks/data_table.ipynb>data table notebook</a>'\n",
              "          + ' to learn more about interactive tables.';\n",
              "        element.innerHTML = '';\n",
              "        dataTable['output_type'] = 'display_data';\n",
              "        await google.colab.output.renderOutput(dataTable, element);\n",
              "        const docLink = document.createElement('div');\n",
              "        docLink.innerHTML = docLinkHtml;\n",
              "        element.appendChild(docLink);\n",
              "      }\n",
              "    </script>\n",
              "  </div>\n",
              "\n",
              "\n",
              "<div id=\"df-a3956731-8cc1-4b32-95f4-bf5f93cf2bbf\">\n",
              "  <button class=\"colab-df-quickchart\" onclick=\"quickchart('df-a3956731-8cc1-4b32-95f4-bf5f93cf2bbf')\"\n",
              "            title=\"Suggest charts\"\n",
              "            style=\"display:none;\">\n",
              "\n",
              "<svg xmlns=\"http://www.w3.org/2000/svg\" height=\"24px\"viewBox=\"0 0 24 24\"\n",
              "     width=\"24px\">\n",
              "    <g>\n",
              "        <path d=\"M19 3H5c-1.1 0-2 .9-2 2v14c0 1.1.9 2 2 2h14c1.1 0 2-.9 2-2V5c0-1.1-.9-2-2-2zM9 17H7v-7h2v7zm4 0h-2V7h2v10zm4 0h-2v-4h2v4z\"/>\n",
              "    </g>\n",
              "</svg>\n",
              "  </button>\n",
              "\n",
              "<style>\n",
              "  .colab-df-quickchart {\n",
              "      --bg-color: #E8F0FE;\n",
              "      --fill-color: #1967D2;\n",
              "      --hover-bg-color: #E2EBFA;\n",
              "      --hover-fill-color: #174EA6;\n",
              "      --disabled-fill-color: #AAA;\n",
              "      --disabled-bg-color: #DDD;\n",
              "  }\n",
              "\n",
              "  [theme=dark] .colab-df-quickchart {\n",
              "      --bg-color: #3B4455;\n",
              "      --fill-color: #D2E3FC;\n",
              "      --hover-bg-color: #434B5C;\n",
              "      --hover-fill-color: #FFFFFF;\n",
              "      --disabled-bg-color: #3B4455;\n",
              "      --disabled-fill-color: #666;\n",
              "  }\n",
              "\n",
              "  .colab-df-quickchart {\n",
              "    background-color: var(--bg-color);\n",
              "    border: none;\n",
              "    border-radius: 50%;\n",
              "    cursor: pointer;\n",
              "    display: none;\n",
              "    fill: var(--fill-color);\n",
              "    height: 32px;\n",
              "    padding: 0;\n",
              "    width: 32px;\n",
              "  }\n",
              "\n",
              "  .colab-df-quickchart:hover {\n",
              "    background-color: var(--hover-bg-color);\n",
              "    box-shadow: 0 1px 2px rgba(60, 64, 67, 0.3), 0 1px 3px 1px rgba(60, 64, 67, 0.15);\n",
              "    fill: var(--button-hover-fill-color);\n",
              "  }\n",
              "\n",
              "  .colab-df-quickchart-complete:disabled,\n",
              "  .colab-df-quickchart-complete:disabled:hover {\n",
              "    background-color: var(--disabled-bg-color);\n",
              "    fill: var(--disabled-fill-color);\n",
              "    box-shadow: none;\n",
              "  }\n",
              "\n",
              "  .colab-df-spinner {\n",
              "    border: 2px solid var(--fill-color);\n",
              "    border-color: transparent;\n",
              "    border-bottom-color: var(--fill-color);\n",
              "    animation:\n",
              "      spin 1s steps(1) infinite;\n",
              "  }\n",
              "\n",
              "  @keyframes spin {\n",
              "    0% {\n",
              "      border-color: transparent;\n",
              "      border-bottom-color: var(--fill-color);\n",
              "      border-left-color: var(--fill-color);\n",
              "    }\n",
              "    20% {\n",
              "      border-color: transparent;\n",
              "      border-left-color: var(--fill-color);\n",
              "      border-top-color: var(--fill-color);\n",
              "    }\n",
              "    30% {\n",
              "      border-color: transparent;\n",
              "      border-left-color: var(--fill-color);\n",
              "      border-top-color: var(--fill-color);\n",
              "      border-right-color: var(--fill-color);\n",
              "    }\n",
              "    40% {\n",
              "      border-color: transparent;\n",
              "      border-right-color: var(--fill-color);\n",
              "      border-top-color: var(--fill-color);\n",
              "    }\n",
              "    60% {\n",
              "      border-color: transparent;\n",
              "      border-right-color: var(--fill-color);\n",
              "    }\n",
              "    80% {\n",
              "      border-color: transparent;\n",
              "      border-right-color: var(--fill-color);\n",
              "      border-bottom-color: var(--fill-color);\n",
              "    }\n",
              "    90% {\n",
              "      border-color: transparent;\n",
              "      border-bottom-color: var(--fill-color);\n",
              "    }\n",
              "  }\n",
              "</style>\n",
              "\n",
              "  <script>\n",
              "    async function quickchart(key) {\n",
              "      const quickchartButtonEl =\n",
              "        document.querySelector('#' + key + ' button');\n",
              "      quickchartButtonEl.disabled = true;  // To prevent multiple clicks.\n",
              "      quickchartButtonEl.classList.add('colab-df-spinner');\n",
              "      try {\n",
              "        const charts = await google.colab.kernel.invokeFunction(\n",
              "            'suggestCharts', [key], {});\n",
              "      } catch (error) {\n",
              "        console.error('Error during call to suggestCharts:', error);\n",
              "      }\n",
              "      quickchartButtonEl.classList.remove('colab-df-spinner');\n",
              "      quickchartButtonEl.classList.add('colab-df-quickchart-complete');\n",
              "    }\n",
              "    (() => {\n",
              "      let quickchartButtonEl =\n",
              "        document.querySelector('#df-a3956731-8cc1-4b32-95f4-bf5f93cf2bbf button');\n",
              "      quickchartButtonEl.style.display =\n",
              "        google.colab.kernel.accessAllowed ? 'block' : 'none';\n",
              "    })();\n",
              "  </script>\n",
              "</div>\n",
              "\n",
              "  <div id=\"id_74b400d0-f531-4751-9634-f6bc76510a76\">\n",
              "    <style>\n",
              "      .colab-df-generate {\n",
              "        background-color: #E8F0FE;\n",
              "        border: none;\n",
              "        border-radius: 50%;\n",
              "        cursor: pointer;\n",
              "        display: none;\n",
              "        fill: #1967D2;\n",
              "        height: 32px;\n",
              "        padding: 0 0 0 0;\n",
              "        width: 32px;\n",
              "      }\n",
              "\n",
              "      .colab-df-generate:hover {\n",
              "        background-color: #E2EBFA;\n",
              "        box-shadow: 0px 1px 2px rgba(60, 64, 67, 0.3), 0px 1px 3px 1px rgba(60, 64, 67, 0.15);\n",
              "        fill: #174EA6;\n",
              "      }\n",
              "\n",
              "      [theme=dark] .colab-df-generate {\n",
              "        background-color: #3B4455;\n",
              "        fill: #D2E3FC;\n",
              "      }\n",
              "\n",
              "      [theme=dark] .colab-df-generate:hover {\n",
              "        background-color: #434B5C;\n",
              "        box-shadow: 0px 1px 3px 1px rgba(0, 0, 0, 0.15);\n",
              "        filter: drop-shadow(0px 1px 2px rgba(0, 0, 0, 0.3));\n",
              "        fill: #FFFFFF;\n",
              "      }\n",
              "    </style>\n",
              "    <button class=\"colab-df-generate\" onclick=\"generateWithVariable('df_new')\"\n",
              "            title=\"Generate code using this dataframe.\"\n",
              "            style=\"display:none;\">\n",
              "\n",
              "  <svg xmlns=\"http://www.w3.org/2000/svg\" height=\"24px\"viewBox=\"0 0 24 24\"\n",
              "       width=\"24px\">\n",
              "    <path d=\"M7,19H8.4L18.45,9,17,7.55,7,17.6ZM5,21V16.75L18.45,3.32a2,2,0,0,1,2.83,0l1.4,1.43a1.91,1.91,0,0,1,.58,1.4,1.91,1.91,0,0,1-.58,1.4L9.25,21ZM18.45,9,17,7.55Zm-12,3A5.31,5.31,0,0,0,4.9,8.1,5.31,5.31,0,0,0,1,6.5,5.31,5.31,0,0,0,4.9,4.9,5.31,5.31,0,0,0,6.5,1,5.31,5.31,0,0,0,8.1,4.9,5.31,5.31,0,0,0,12,6.5,5.46,5.46,0,0,0,6.5,12Z\"/>\n",
              "  </svg>\n",
              "    </button>\n",
              "    <script>\n",
              "      (() => {\n",
              "      const buttonEl =\n",
              "        document.querySelector('#id_74b400d0-f531-4751-9634-f6bc76510a76 button.colab-df-generate');\n",
              "      buttonEl.style.display =\n",
              "        google.colab.kernel.accessAllowed ? 'block' : 'none';\n",
              "\n",
              "      buttonEl.onclick = () => {\n",
              "        google.colab.notebook.generateWithVariable('df_new');\n",
              "      }\n",
              "      })();\n",
              "    </script>\n",
              "  </div>\n",
              "\n",
              "    </div>\n",
              "  </div>\n"
            ],
            "application/vnd.google.colaboratory.intrinsic+json": {
              "type": "dataframe",
              "variable_name": "df_new",
              "summary": "{\n  \"name\": \"df_new\",\n  \"rows\": 6,\n  \"fields\": [\n    {\n      \"column\": \"hudud\",\n      \"properties\": {\n        \"dtype\": \"string\",\n        \"num_unique_values\": 6,\n        \"samples\": [\n          \"Buxoro viloyati\",\n          \"Jizzax viloyati\",\n          \"Sirdaryo viloyati\"\n        ],\n        \"semantic_type\": \"\",\n        \"description\": \"\"\n      }\n    },\n    {\n      \"column\": \"markazi\",\n      \"properties\": {\n        \"dtype\": \"string\",\n        \"num_unique_values\": 6,\n        \"samples\": [\n          \"Buxoro shahri\",\n          \"Jizzax shahri\",\n          \"Guliston shahri\"\n        ],\n        \"semantic_type\": \"\",\n        \"description\": \"\"\n      }\n    },\n    {\n      \"column\": \"maydoni\",\n      \"properties\": {\n        \"dtype\": \"number\",\n        \"std\": 12605,\n        \"min\": 6300,\n        \"max\": 39400,\n        \"num_unique_values\": 6,\n        \"samples\": [\n          39400,\n          6300,\n          20800\n        ],\n        \"semantic_type\": \"\",\n        \"description\": \"\"\n      }\n    },\n    {\n      \"column\": \"aholisi\",\n      \"properties\": {\n        \"dtype\": \"number\",\n        \"std\": 287001,\n        \"min\": 648100,\n        \"max\": 1384700,\n        \"num_unique_values\": 5,\n        \"samples\": [\n          910500,\n          648100,\n          1200000\n        ],\n        \"semantic_type\": \"\",\n        \"description\": \"\"\n      }\n    }\n  ]\n}"
            }
          },
          "metadata": {},
          "execution_count": 193
        }
      ],
      "source": [
        "# Javobni shuyerga yozing\n",
        "df_new = df[df.aholisi < 1500000]\n",
        "df_new"
      ]
    },
    {
      "cell_type": "markdown",
      "metadata": {
        "id": "1J-6XB5ysM6T"
      },
      "source": [
        "### **12-mashq.**  Aholisi 1milliondan ko'p, lekin maydoni 10000kv.km dan kam hududlarni chiqaring"
      ]
    },
    {
      "cell_type": "code",
      "execution_count": 194,
      "metadata": {
        "id": "qiBSsD26sM6T",
        "colab": {
          "base_uri": "https://localhost:8080/"
        },
        "outputId": "f5bc4f2c-8121-44c9-a8ef-f00f30b61702"
      },
      "outputs": [
        {
          "output_type": "stream",
          "name": "stdout",
          "text": [
            "                hudud           markazi  maydoni  aholisi\n",
            "0    Andijon viloyati    Andijon shahri     4200  1899000\n",
            "2    Fargona viloyati    Fargona shahri     6800  2597000\n",
            "3     Jizzax viloyati     Jizzax shahri     6300   910500\n",
            "4     Xorazm viloyati    Urganch shahri     7900  1200000\n",
            "9  Samarqand viloyati  Samarqand shahri     5100  2322000\n"
          ]
        }
      ],
      "source": [
        "# Javobni shuyerga yozing\n",
        "print(df[(df[df.aholisi > 100000]).maydoni <  10000])"
      ]
    },
    {
      "cell_type": "markdown",
      "metadata": {
        "id": "UV-OhXbcsM6U"
      },
      "source": [
        "### **13-mashq.**  Aholisi 1milliondan kam, lekin maydoni 10000kv.km dan ko'p hududlarni chiqaring. IKKITA SHARTNI BIRLASHTIRISH UCHUN MANTIQIY VA AMALIDAN FOYDALANASIZ \"&\" SHU BELGI"
      ]
    },
    {
      "cell_type": "code",
      "execution_count": 195,
      "metadata": {
        "id": "LiuUOK3YsM6V",
        "colab": {
          "base_uri": "https://localhost:8080/"
        },
        "outputId": "0acb3494-98dd-4bae-949c-7995c55aeee7"
      },
      "outputs": [
        {
          "output_type": "stream",
          "name": "stdout",
          "text": [
            "Buxoro viloyati\n",
            "Xorazm viloyati\n",
            "Namangan viloyati\n",
            "Navoiy viloyati\n",
            "Qashqadaryo viloyati\n",
            "Qoraqalpogiston Respubliasi\n",
            "Sirdaryo viloyati\n",
            "Surxondaryo viloyati\n",
            "Toshkent viloyati\n"
          ]
        }
      ],
      "source": [
        "# Javobni shuyerga yozing\n",
        "for i in range(13):\n",
        "  tmp = df.loc[i]\n",
        "  if tmp.maydoni >10000 & tmp.aholisi < 1000000 :\n",
        "    print(tmp.hudud)"
      ]
    },
    {
      "cell_type": "markdown",
      "metadata": {
        "id": "Ft8U-8tdsM6W"
      },
      "source": [
        "### **14-mashq.**  Yuqoridagi df dan `Markaz` ustunini tashlab yuboring"
      ]
    },
    {
      "cell_type": "code",
      "execution_count": 196,
      "metadata": {
        "id": "QDGi0Yf9sM6W",
        "colab": {
          "base_uri": "https://localhost:8080/",
          "height": 457
        },
        "outputId": "69941bfa-5f0c-4774-8412-542f0c41f67b"
      },
      "outputs": [
        {
          "output_type": "execute_result",
          "data": {
            "text/plain": [
              "                          hudud  maydoni  aholisi\n",
              "0              Andijon viloyati     4200  1899000\n",
              "1               Buxoro viloyati    39400  1384700\n",
              "2              Fargona viloyati     6800  2597000\n",
              "3               Jizzax viloyati     6300   910500\n",
              "4               Xorazm viloyati     7900  1200000\n",
              "5             Namangan viloyati   110800  1862000\n",
              "6               Navoiy viloyati    28400   767500\n",
              "7          Qashqadaryo viloyati   160000  2029000\n",
              "8   Qoraqalpogiston Respubliasi    16400  1200000\n",
              "9            Samarqand viloyati     5100  2322000\n",
              "10            Sirdaryo viloyati    20800   648100\n",
              "11         Surxondaryo viloyati    20500  1676000\n",
              "12            Toshkent viloyati    15300  4450000"
            ],
            "text/html": [
              "\n",
              "  <div id=\"df-2ec0ab7f-f072-478d-8a58-eb3de31172fb\" class=\"colab-df-container\">\n",
              "    <div>\n",
              "<style scoped>\n",
              "    .dataframe tbody tr th:only-of-type {\n",
              "        vertical-align: middle;\n",
              "    }\n",
              "\n",
              "    .dataframe tbody tr th {\n",
              "        vertical-align: top;\n",
              "    }\n",
              "\n",
              "    .dataframe thead th {\n",
              "        text-align: right;\n",
              "    }\n",
              "</style>\n",
              "<table border=\"1\" class=\"dataframe\">\n",
              "  <thead>\n",
              "    <tr style=\"text-align: right;\">\n",
              "      <th></th>\n",
              "      <th>hudud</th>\n",
              "      <th>maydoni</th>\n",
              "      <th>aholisi</th>\n",
              "    </tr>\n",
              "  </thead>\n",
              "  <tbody>\n",
              "    <tr>\n",
              "      <th>0</th>\n",
              "      <td>Andijon viloyati</td>\n",
              "      <td>4200</td>\n",
              "      <td>1899000</td>\n",
              "    </tr>\n",
              "    <tr>\n",
              "      <th>1</th>\n",
              "      <td>Buxoro viloyati</td>\n",
              "      <td>39400</td>\n",
              "      <td>1384700</td>\n",
              "    </tr>\n",
              "    <tr>\n",
              "      <th>2</th>\n",
              "      <td>Fargona viloyati</td>\n",
              "      <td>6800</td>\n",
              "      <td>2597000</td>\n",
              "    </tr>\n",
              "    <tr>\n",
              "      <th>3</th>\n",
              "      <td>Jizzax viloyati</td>\n",
              "      <td>6300</td>\n",
              "      <td>910500</td>\n",
              "    </tr>\n",
              "    <tr>\n",
              "      <th>4</th>\n",
              "      <td>Xorazm viloyati</td>\n",
              "      <td>7900</td>\n",
              "      <td>1200000</td>\n",
              "    </tr>\n",
              "    <tr>\n",
              "      <th>5</th>\n",
              "      <td>Namangan viloyati</td>\n",
              "      <td>110800</td>\n",
              "      <td>1862000</td>\n",
              "    </tr>\n",
              "    <tr>\n",
              "      <th>6</th>\n",
              "      <td>Navoiy viloyati</td>\n",
              "      <td>28400</td>\n",
              "      <td>767500</td>\n",
              "    </tr>\n",
              "    <tr>\n",
              "      <th>7</th>\n",
              "      <td>Qashqadaryo viloyati</td>\n",
              "      <td>160000</td>\n",
              "      <td>2029000</td>\n",
              "    </tr>\n",
              "    <tr>\n",
              "      <th>8</th>\n",
              "      <td>Qoraqalpogiston Respubliasi</td>\n",
              "      <td>16400</td>\n",
              "      <td>1200000</td>\n",
              "    </tr>\n",
              "    <tr>\n",
              "      <th>9</th>\n",
              "      <td>Samarqand viloyati</td>\n",
              "      <td>5100</td>\n",
              "      <td>2322000</td>\n",
              "    </tr>\n",
              "    <tr>\n",
              "      <th>10</th>\n",
              "      <td>Sirdaryo viloyati</td>\n",
              "      <td>20800</td>\n",
              "      <td>648100</td>\n",
              "    </tr>\n",
              "    <tr>\n",
              "      <th>11</th>\n",
              "      <td>Surxondaryo viloyati</td>\n",
              "      <td>20500</td>\n",
              "      <td>1676000</td>\n",
              "    </tr>\n",
              "    <tr>\n",
              "      <th>12</th>\n",
              "      <td>Toshkent viloyati</td>\n",
              "      <td>15300</td>\n",
              "      <td>4450000</td>\n",
              "    </tr>\n",
              "  </tbody>\n",
              "</table>\n",
              "</div>\n",
              "    <div class=\"colab-df-buttons\">\n",
              "\n",
              "  <div class=\"colab-df-container\">\n",
              "    <button class=\"colab-df-convert\" onclick=\"convertToInteractive('df-2ec0ab7f-f072-478d-8a58-eb3de31172fb')\"\n",
              "            title=\"Convert this dataframe to an interactive table.\"\n",
              "            style=\"display:none;\">\n",
              "\n",
              "  <svg xmlns=\"http://www.w3.org/2000/svg\" height=\"24px\" viewBox=\"0 -960 960 960\">\n",
              "    <path d=\"M120-120v-720h720v720H120Zm60-500h600v-160H180v160Zm220 220h160v-160H400v160Zm0 220h160v-160H400v160ZM180-400h160v-160H180v160Zm440 0h160v-160H620v160ZM180-180h160v-160H180v160Zm440 0h160v-160H620v160Z\"/>\n",
              "  </svg>\n",
              "    </button>\n",
              "\n",
              "  <style>\n",
              "    .colab-df-container {\n",
              "      display:flex;\n",
              "      gap: 12px;\n",
              "    }\n",
              "\n",
              "    .colab-df-convert {\n",
              "      background-color: #E8F0FE;\n",
              "      border: none;\n",
              "      border-radius: 50%;\n",
              "      cursor: pointer;\n",
              "      display: none;\n",
              "      fill: #1967D2;\n",
              "      height: 32px;\n",
              "      padding: 0 0 0 0;\n",
              "      width: 32px;\n",
              "    }\n",
              "\n",
              "    .colab-df-convert:hover {\n",
              "      background-color: #E2EBFA;\n",
              "      box-shadow: 0px 1px 2px rgba(60, 64, 67, 0.3), 0px 1px 3px 1px rgba(60, 64, 67, 0.15);\n",
              "      fill: #174EA6;\n",
              "    }\n",
              "\n",
              "    .colab-df-buttons div {\n",
              "      margin-bottom: 4px;\n",
              "    }\n",
              "\n",
              "    [theme=dark] .colab-df-convert {\n",
              "      background-color: #3B4455;\n",
              "      fill: #D2E3FC;\n",
              "    }\n",
              "\n",
              "    [theme=dark] .colab-df-convert:hover {\n",
              "      background-color: #434B5C;\n",
              "      box-shadow: 0px 1px 3px 1px rgba(0, 0, 0, 0.15);\n",
              "      filter: drop-shadow(0px 1px 2px rgba(0, 0, 0, 0.3));\n",
              "      fill: #FFFFFF;\n",
              "    }\n",
              "  </style>\n",
              "\n",
              "    <script>\n",
              "      const buttonEl =\n",
              "        document.querySelector('#df-2ec0ab7f-f072-478d-8a58-eb3de31172fb button.colab-df-convert');\n",
              "      buttonEl.style.display =\n",
              "        google.colab.kernel.accessAllowed ? 'block' : 'none';\n",
              "\n",
              "      async function convertToInteractive(key) {\n",
              "        const element = document.querySelector('#df-2ec0ab7f-f072-478d-8a58-eb3de31172fb');\n",
              "        const dataTable =\n",
              "          await google.colab.kernel.invokeFunction('convertToInteractive',\n",
              "                                                    [key], {});\n",
              "        if (!dataTable) return;\n",
              "\n",
              "        const docLinkHtml = 'Like what you see? Visit the ' +\n",
              "          '<a target=\"_blank\" href=https://colab.research.google.com/notebooks/data_table.ipynb>data table notebook</a>'\n",
              "          + ' to learn more about interactive tables.';\n",
              "        element.innerHTML = '';\n",
              "        dataTable['output_type'] = 'display_data';\n",
              "        await google.colab.output.renderOutput(dataTable, element);\n",
              "        const docLink = document.createElement('div');\n",
              "        docLink.innerHTML = docLinkHtml;\n",
              "        element.appendChild(docLink);\n",
              "      }\n",
              "    </script>\n",
              "  </div>\n",
              "\n",
              "\n",
              "<div id=\"df-9cc34d10-1bd3-4246-824f-0c37a2488179\">\n",
              "  <button class=\"colab-df-quickchart\" onclick=\"quickchart('df-9cc34d10-1bd3-4246-824f-0c37a2488179')\"\n",
              "            title=\"Suggest charts\"\n",
              "            style=\"display:none;\">\n",
              "\n",
              "<svg xmlns=\"http://www.w3.org/2000/svg\" height=\"24px\"viewBox=\"0 0 24 24\"\n",
              "     width=\"24px\">\n",
              "    <g>\n",
              "        <path d=\"M19 3H5c-1.1 0-2 .9-2 2v14c0 1.1.9 2 2 2h14c1.1 0 2-.9 2-2V5c0-1.1-.9-2-2-2zM9 17H7v-7h2v7zm4 0h-2V7h2v10zm4 0h-2v-4h2v4z\"/>\n",
              "    </g>\n",
              "</svg>\n",
              "  </button>\n",
              "\n",
              "<style>\n",
              "  .colab-df-quickchart {\n",
              "      --bg-color: #E8F0FE;\n",
              "      --fill-color: #1967D2;\n",
              "      --hover-bg-color: #E2EBFA;\n",
              "      --hover-fill-color: #174EA6;\n",
              "      --disabled-fill-color: #AAA;\n",
              "      --disabled-bg-color: #DDD;\n",
              "  }\n",
              "\n",
              "  [theme=dark] .colab-df-quickchart {\n",
              "      --bg-color: #3B4455;\n",
              "      --fill-color: #D2E3FC;\n",
              "      --hover-bg-color: #434B5C;\n",
              "      --hover-fill-color: #FFFFFF;\n",
              "      --disabled-bg-color: #3B4455;\n",
              "      --disabled-fill-color: #666;\n",
              "  }\n",
              "\n",
              "  .colab-df-quickchart {\n",
              "    background-color: var(--bg-color);\n",
              "    border: none;\n",
              "    border-radius: 50%;\n",
              "    cursor: pointer;\n",
              "    display: none;\n",
              "    fill: var(--fill-color);\n",
              "    height: 32px;\n",
              "    padding: 0;\n",
              "    width: 32px;\n",
              "  }\n",
              "\n",
              "  .colab-df-quickchart:hover {\n",
              "    background-color: var(--hover-bg-color);\n",
              "    box-shadow: 0 1px 2px rgba(60, 64, 67, 0.3), 0 1px 3px 1px rgba(60, 64, 67, 0.15);\n",
              "    fill: var(--button-hover-fill-color);\n",
              "  }\n",
              "\n",
              "  .colab-df-quickchart-complete:disabled,\n",
              "  .colab-df-quickchart-complete:disabled:hover {\n",
              "    background-color: var(--disabled-bg-color);\n",
              "    fill: var(--disabled-fill-color);\n",
              "    box-shadow: none;\n",
              "  }\n",
              "\n",
              "  .colab-df-spinner {\n",
              "    border: 2px solid var(--fill-color);\n",
              "    border-color: transparent;\n",
              "    border-bottom-color: var(--fill-color);\n",
              "    animation:\n",
              "      spin 1s steps(1) infinite;\n",
              "  }\n",
              "\n",
              "  @keyframes spin {\n",
              "    0% {\n",
              "      border-color: transparent;\n",
              "      border-bottom-color: var(--fill-color);\n",
              "      border-left-color: var(--fill-color);\n",
              "    }\n",
              "    20% {\n",
              "      border-color: transparent;\n",
              "      border-left-color: var(--fill-color);\n",
              "      border-top-color: var(--fill-color);\n",
              "    }\n",
              "    30% {\n",
              "      border-color: transparent;\n",
              "      border-left-color: var(--fill-color);\n",
              "      border-top-color: var(--fill-color);\n",
              "      border-right-color: var(--fill-color);\n",
              "    }\n",
              "    40% {\n",
              "      border-color: transparent;\n",
              "      border-right-color: var(--fill-color);\n",
              "      border-top-color: var(--fill-color);\n",
              "    }\n",
              "    60% {\n",
              "      border-color: transparent;\n",
              "      border-right-color: var(--fill-color);\n",
              "    }\n",
              "    80% {\n",
              "      border-color: transparent;\n",
              "      border-right-color: var(--fill-color);\n",
              "      border-bottom-color: var(--fill-color);\n",
              "    }\n",
              "    90% {\n",
              "      border-color: transparent;\n",
              "      border-bottom-color: var(--fill-color);\n",
              "    }\n",
              "  }\n",
              "</style>\n",
              "\n",
              "  <script>\n",
              "    async function quickchart(key) {\n",
              "      const quickchartButtonEl =\n",
              "        document.querySelector('#' + key + ' button');\n",
              "      quickchartButtonEl.disabled = true;  // To prevent multiple clicks.\n",
              "      quickchartButtonEl.classList.add('colab-df-spinner');\n",
              "      try {\n",
              "        const charts = await google.colab.kernel.invokeFunction(\n",
              "            'suggestCharts', [key], {});\n",
              "      } catch (error) {\n",
              "        console.error('Error during call to suggestCharts:', error);\n",
              "      }\n",
              "      quickchartButtonEl.classList.remove('colab-df-spinner');\n",
              "      quickchartButtonEl.classList.add('colab-df-quickchart-complete');\n",
              "    }\n",
              "    (() => {\n",
              "      let quickchartButtonEl =\n",
              "        document.querySelector('#df-9cc34d10-1bd3-4246-824f-0c37a2488179 button');\n",
              "      quickchartButtonEl.style.display =\n",
              "        google.colab.kernel.accessAllowed ? 'block' : 'none';\n",
              "    })();\n",
              "  </script>\n",
              "</div>\n",
              "\n",
              "  <div id=\"id_d8f380f5-2709-4ede-83df-e5abc90929b5\">\n",
              "    <style>\n",
              "      .colab-df-generate {\n",
              "        background-color: #E8F0FE;\n",
              "        border: none;\n",
              "        border-radius: 50%;\n",
              "        cursor: pointer;\n",
              "        display: none;\n",
              "        fill: #1967D2;\n",
              "        height: 32px;\n",
              "        padding: 0 0 0 0;\n",
              "        width: 32px;\n",
              "      }\n",
              "\n",
              "      .colab-df-generate:hover {\n",
              "        background-color: #E2EBFA;\n",
              "        box-shadow: 0px 1px 2px rgba(60, 64, 67, 0.3), 0px 1px 3px 1px rgba(60, 64, 67, 0.15);\n",
              "        fill: #174EA6;\n",
              "      }\n",
              "\n",
              "      [theme=dark] .colab-df-generate {\n",
              "        background-color: #3B4455;\n",
              "        fill: #D2E3FC;\n",
              "      }\n",
              "\n",
              "      [theme=dark] .colab-df-generate:hover {\n",
              "        background-color: #434B5C;\n",
              "        box-shadow: 0px 1px 3px 1px rgba(0, 0, 0, 0.15);\n",
              "        filter: drop-shadow(0px 1px 2px rgba(0, 0, 0, 0.3));\n",
              "        fill: #FFFFFF;\n",
              "      }\n",
              "    </style>\n",
              "    <button class=\"colab-df-generate\" onclick=\"generateWithVariable('df2')\"\n",
              "            title=\"Generate code using this dataframe.\"\n",
              "            style=\"display:none;\">\n",
              "\n",
              "  <svg xmlns=\"http://www.w3.org/2000/svg\" height=\"24px\"viewBox=\"0 0 24 24\"\n",
              "       width=\"24px\">\n",
              "    <path d=\"M7,19H8.4L18.45,9,17,7.55,7,17.6ZM5,21V16.75L18.45,3.32a2,2,0,0,1,2.83,0l1.4,1.43a1.91,1.91,0,0,1,.58,1.4,1.91,1.91,0,0,1-.58,1.4L9.25,21ZM18.45,9,17,7.55Zm-12,3A5.31,5.31,0,0,0,4.9,8.1,5.31,5.31,0,0,0,1,6.5,5.31,5.31,0,0,0,4.9,4.9,5.31,5.31,0,0,0,6.5,1,5.31,5.31,0,0,0,8.1,4.9,5.31,5.31,0,0,0,12,6.5,5.46,5.46,0,0,0,6.5,12Z\"/>\n",
              "  </svg>\n",
              "    </button>\n",
              "    <script>\n",
              "      (() => {\n",
              "      const buttonEl =\n",
              "        document.querySelector('#id_d8f380f5-2709-4ede-83df-e5abc90929b5 button.colab-df-generate');\n",
              "      buttonEl.style.display =\n",
              "        google.colab.kernel.accessAllowed ? 'block' : 'none';\n",
              "\n",
              "      buttonEl.onclick = () => {\n",
              "        google.colab.notebook.generateWithVariable('df2');\n",
              "      }\n",
              "      })();\n",
              "    </script>\n",
              "  </div>\n",
              "\n",
              "    </div>\n",
              "  </div>\n"
            ],
            "application/vnd.google.colaboratory.intrinsic+json": {
              "type": "dataframe",
              "variable_name": "df2",
              "summary": "{\n  \"name\": \"df2\",\n  \"rows\": 13,\n  \"fields\": [\n    {\n      \"column\": \"hudud\",\n      \"properties\": {\n        \"dtype\": \"string\",\n        \"num_unique_values\": 13,\n        \"samples\": [\n          \"Surxondaryo viloyati\",\n          \"Samarqand viloyati\",\n          \"Andijon viloyati\"\n        ],\n        \"semantic_type\": \"\",\n        \"description\": \"\"\n      }\n    },\n    {\n      \"column\": \"maydoni\",\n      \"properties\": {\n        \"dtype\": \"number\",\n        \"std\": 47224,\n        \"min\": 4200,\n        \"max\": 160000,\n        \"num_unique_values\": 13,\n        \"samples\": [\n          20500,\n          5100,\n          4200\n        ],\n        \"semantic_type\": \"\",\n        \"description\": \"\"\n      }\n    },\n    {\n      \"column\": \"aholisi\",\n      \"properties\": {\n        \"dtype\": \"number\",\n        \"std\": 1003012,\n        \"min\": 648100,\n        \"max\": 4450000,\n        \"num_unique_values\": 12,\n        \"samples\": [\n          1676000,\n          648100,\n          1899000\n        ],\n        \"semantic_type\": \"\",\n        \"description\": \"\"\n      }\n    }\n  ]\n}"
            }
          },
          "metadata": {},
          "execution_count": 196
        }
      ],
      "source": [
        "# Javobni shuyerga yozing\n",
        "df2 = df.drop('markazi', axis=1)\n",
        "df2"
      ]
    },
    {
      "cell_type": "markdown",
      "metadata": {
        "id": "hNx9wGJ5sM6X"
      },
      "source": [
        "### **15-mashq.**  Yuqoridagi df dan Sirdaryo viloyati aholisini chiqaring. `at` orqali"
      ]
    },
    {
      "cell_type": "code",
      "execution_count": 197,
      "metadata": {
        "id": "6_CmChIpsM6X",
        "colab": {
          "base_uri": "https://localhost:8080/"
        },
        "outputId": "c358649b-0bc1-48e4-d438-07630f800172"
      },
      "outputs": [
        {
          "output_type": "stream",
          "name": "stdout",
          "text": [
            "648100\n"
          ]
        }
      ],
      "source": [
        "# Javobni shuyerga yozing\n",
        "print(df.at[10, 'aholisi'])"
      ]
    },
    {
      "cell_type": "markdown",
      "source": [
        "### **16-mashq.**  \"cars.xlsx\" formatdagi  dataset  berilgan. Uning ustunlari yig'indisini chiqaruvchi dastur kodini yozing va natijasini oling."
      ],
      "metadata": {
        "id": "nAxm9X9lni4j"
      }
    },
    {
      "cell_type": "code",
      "source": [
        "# Javobni shuyerga yozing\n",
        "dts = pd.read_excel('cars.xlsx')\n",
        "dts.sum()"
      ],
      "metadata": {
        "id": "vukHnREzoiix",
        "colab": {
          "base_uri": "https://localhost:8080/"
        },
        "outputId": "d75879f9-e940-47ce-d37d-5b52b3f3bdd6"
      },
      "execution_count": 198,
      "outputs": [
        {
          "output_type": "execute_result",
          "data": {
            "text/plain": [
              "Make           AcuraAcuraAcuraAcuraAcuraAcuraAcuraAudiAudiAud...\n",
              "Model           MDX RSX Type S 2dr TSX 4dr TL 4dr 3.5 RL 4dr ...\n",
              "Type           SUVSedanSedanSedanSedanSedanSportsSedanSedanSe...\n",
              "Origin         AsiaAsiaAsiaAsiaAsiaAsiaAsiaEuropeEuropeEurope...\n",
              "DriveTrain     AllFrontFrontFrontFrontFrontRearFrontFrontFron...\n",
              "MSRP                                                    14027638\n",
              "Invoice                                                 12846292\n",
              "EngineSize                                                1368.2\n",
              "Cylinders                                                 2474.0\n",
              "Horsepower                                                 92399\n",
              "MPG_City                                                    8586\n",
              "MPG_Highway                                                11489\n",
              "Weight                                                   1531364\n",
              "Wheelbase                                                  46290\n",
              "Length                                                     79763\n",
              "dtype: object"
            ]
          },
          "metadata": {},
          "execution_count": 198
        }
      ]
    },
    {
      "cell_type": "markdown",
      "source": [
        "### **17-mashq.**  \"cars.xlsx\" formatdagi  dataset  berilgan. Uning \"price\" ustunining eng kichik elemnti idisini va eng katta elementi idisini chiqaruvchi dastur kodini yozing va natijasini oling."
      ],
      "metadata": {
        "id": "qXHmAZc1omQG"
      }
    },
    {
      "cell_type": "code",
      "source": [
        "# Javobni shuyerga yozing\n",
        "print(dts[['Invoice']].idxmin())\n",
        "print(\"\\n\")\n",
        "print(dts[['Invoice']].idxmax())"
      ],
      "metadata": {
        "id": "Z2e2VvBepTL0",
        "colab": {
          "base_uri": "https://localhost:8080/"
        },
        "outputId": "6247f82d-63f0-488e-d485-f2ca31053bc3"
      },
      "execution_count": 199,
      "outputs": [
        {
          "output_type": "stream",
          "name": "stdout",
          "text": [
            "Invoice    206\n",
            "dtype: int64\n",
            "\n",
            "\n",
            "Invoice    334\n",
            "dtype: int64\n"
          ]
        }
      ]
    },
    {
      "cell_type": "markdown",
      "source": [
        "### **18-mashq.**  \"cars.xlsx\" formatdagi  dataset  berilgan. Datasetda describe() va info() metodlarini ishlating va natijasini oling. Bu metodlarni vazifasini tushuntiring."
      ],
      "metadata": {
        "id": "cnF4_ahGpYoS"
      }
    },
    {
      "cell_type": "code",
      "source": [
        "# Javobni shuyerga yozing\n",
        "dts.describe()"
      ],
      "metadata": {
        "id": "iYYyS_90pdGP",
        "colab": {
          "base_uri": "https://localhost:8080/",
          "height": 300
        },
        "outputId": "d6bc569b-26bf-4395-9a87-87b072e7f047"
      },
      "execution_count": 200,
      "outputs": [
        {
          "output_type": "execute_result",
          "data": {
            "text/plain": [
              "                MSRP        Invoice  EngineSize   Cylinders  Horsepower  \\\n",
              "count     428.000000     428.000000  428.000000  426.000000  428.000000   \n",
              "mean    32774.855140   30014.700935    3.196729    5.807512  215.885514   \n",
              "std     19431.716674   17642.117750    1.108595    1.558443   71.836032   \n",
              "min     10280.000000    9875.000000    1.300000    3.000000   73.000000   \n",
              "25%     20334.250000   18866.000000    2.375000    4.000000  165.000000   \n",
              "50%     27635.000000   25294.500000    3.000000    6.000000  210.000000   \n",
              "75%     39205.000000   35710.250000    3.900000    6.000000  255.000000   \n",
              "max    192465.000000  173560.000000    8.300000   12.000000  500.000000   \n",
              "\n",
              "         MPG_City  MPG_Highway       Weight   Wheelbase      Length  \n",
              "count  428.000000   428.000000   428.000000  428.000000  428.000000  \n",
              "mean    20.060748    26.843458  3577.953271  108.154206  186.362150  \n",
              "std      5.238218     5.741201   758.983215    8.311813   14.357991  \n",
              "min     10.000000    12.000000  1850.000000   89.000000  143.000000  \n",
              "25%     17.000000    24.000000  3104.000000  103.000000  178.000000  \n",
              "50%     19.000000    26.000000  3474.500000  107.000000  187.000000  \n",
              "75%     21.250000    29.000000  3977.750000  112.000000  194.000000  \n",
              "max     60.000000    66.000000  7190.000000  144.000000  238.000000  "
            ],
            "text/html": [
              "\n",
              "  <div id=\"df-ca1a556e-c487-454a-bce6-7b67fca062ed\" class=\"colab-df-container\">\n",
              "    <div>\n",
              "<style scoped>\n",
              "    .dataframe tbody tr th:only-of-type {\n",
              "        vertical-align: middle;\n",
              "    }\n",
              "\n",
              "    .dataframe tbody tr th {\n",
              "        vertical-align: top;\n",
              "    }\n",
              "\n",
              "    .dataframe thead th {\n",
              "        text-align: right;\n",
              "    }\n",
              "</style>\n",
              "<table border=\"1\" class=\"dataframe\">\n",
              "  <thead>\n",
              "    <tr style=\"text-align: right;\">\n",
              "      <th></th>\n",
              "      <th>MSRP</th>\n",
              "      <th>Invoice</th>\n",
              "      <th>EngineSize</th>\n",
              "      <th>Cylinders</th>\n",
              "      <th>Horsepower</th>\n",
              "      <th>MPG_City</th>\n",
              "      <th>MPG_Highway</th>\n",
              "      <th>Weight</th>\n",
              "      <th>Wheelbase</th>\n",
              "      <th>Length</th>\n",
              "    </tr>\n",
              "  </thead>\n",
              "  <tbody>\n",
              "    <tr>\n",
              "      <th>count</th>\n",
              "      <td>428.000000</td>\n",
              "      <td>428.000000</td>\n",
              "      <td>428.000000</td>\n",
              "      <td>426.000000</td>\n",
              "      <td>428.000000</td>\n",
              "      <td>428.000000</td>\n",
              "      <td>428.000000</td>\n",
              "      <td>428.000000</td>\n",
              "      <td>428.000000</td>\n",
              "      <td>428.000000</td>\n",
              "    </tr>\n",
              "    <tr>\n",
              "      <th>mean</th>\n",
              "      <td>32774.855140</td>\n",
              "      <td>30014.700935</td>\n",
              "      <td>3.196729</td>\n",
              "      <td>5.807512</td>\n",
              "      <td>215.885514</td>\n",
              "      <td>20.060748</td>\n",
              "      <td>26.843458</td>\n",
              "      <td>3577.953271</td>\n",
              "      <td>108.154206</td>\n",
              "      <td>186.362150</td>\n",
              "    </tr>\n",
              "    <tr>\n",
              "      <th>std</th>\n",
              "      <td>19431.716674</td>\n",
              "      <td>17642.117750</td>\n",
              "      <td>1.108595</td>\n",
              "      <td>1.558443</td>\n",
              "      <td>71.836032</td>\n",
              "      <td>5.238218</td>\n",
              "      <td>5.741201</td>\n",
              "      <td>758.983215</td>\n",
              "      <td>8.311813</td>\n",
              "      <td>14.357991</td>\n",
              "    </tr>\n",
              "    <tr>\n",
              "      <th>min</th>\n",
              "      <td>10280.000000</td>\n",
              "      <td>9875.000000</td>\n",
              "      <td>1.300000</td>\n",
              "      <td>3.000000</td>\n",
              "      <td>73.000000</td>\n",
              "      <td>10.000000</td>\n",
              "      <td>12.000000</td>\n",
              "      <td>1850.000000</td>\n",
              "      <td>89.000000</td>\n",
              "      <td>143.000000</td>\n",
              "    </tr>\n",
              "    <tr>\n",
              "      <th>25%</th>\n",
              "      <td>20334.250000</td>\n",
              "      <td>18866.000000</td>\n",
              "      <td>2.375000</td>\n",
              "      <td>4.000000</td>\n",
              "      <td>165.000000</td>\n",
              "      <td>17.000000</td>\n",
              "      <td>24.000000</td>\n",
              "      <td>3104.000000</td>\n",
              "      <td>103.000000</td>\n",
              "      <td>178.000000</td>\n",
              "    </tr>\n",
              "    <tr>\n",
              "      <th>50%</th>\n",
              "      <td>27635.000000</td>\n",
              "      <td>25294.500000</td>\n",
              "      <td>3.000000</td>\n",
              "      <td>6.000000</td>\n",
              "      <td>210.000000</td>\n",
              "      <td>19.000000</td>\n",
              "      <td>26.000000</td>\n",
              "      <td>3474.500000</td>\n",
              "      <td>107.000000</td>\n",
              "      <td>187.000000</td>\n",
              "    </tr>\n",
              "    <tr>\n",
              "      <th>75%</th>\n",
              "      <td>39205.000000</td>\n",
              "      <td>35710.250000</td>\n",
              "      <td>3.900000</td>\n",
              "      <td>6.000000</td>\n",
              "      <td>255.000000</td>\n",
              "      <td>21.250000</td>\n",
              "      <td>29.000000</td>\n",
              "      <td>3977.750000</td>\n",
              "      <td>112.000000</td>\n",
              "      <td>194.000000</td>\n",
              "    </tr>\n",
              "    <tr>\n",
              "      <th>max</th>\n",
              "      <td>192465.000000</td>\n",
              "      <td>173560.000000</td>\n",
              "      <td>8.300000</td>\n",
              "      <td>12.000000</td>\n",
              "      <td>500.000000</td>\n",
              "      <td>60.000000</td>\n",
              "      <td>66.000000</td>\n",
              "      <td>7190.000000</td>\n",
              "      <td>144.000000</td>\n",
              "      <td>238.000000</td>\n",
              "    </tr>\n",
              "  </tbody>\n",
              "</table>\n",
              "</div>\n",
              "    <div class=\"colab-df-buttons\">\n",
              "\n",
              "  <div class=\"colab-df-container\">\n",
              "    <button class=\"colab-df-convert\" onclick=\"convertToInteractive('df-ca1a556e-c487-454a-bce6-7b67fca062ed')\"\n",
              "            title=\"Convert this dataframe to an interactive table.\"\n",
              "            style=\"display:none;\">\n",
              "\n",
              "  <svg xmlns=\"http://www.w3.org/2000/svg\" height=\"24px\" viewBox=\"0 -960 960 960\">\n",
              "    <path d=\"M120-120v-720h720v720H120Zm60-500h600v-160H180v160Zm220 220h160v-160H400v160Zm0 220h160v-160H400v160ZM180-400h160v-160H180v160Zm440 0h160v-160H620v160ZM180-180h160v-160H180v160Zm440 0h160v-160H620v160Z\"/>\n",
              "  </svg>\n",
              "    </button>\n",
              "\n",
              "  <style>\n",
              "    .colab-df-container {\n",
              "      display:flex;\n",
              "      gap: 12px;\n",
              "    }\n",
              "\n",
              "    .colab-df-convert {\n",
              "      background-color: #E8F0FE;\n",
              "      border: none;\n",
              "      border-radius: 50%;\n",
              "      cursor: pointer;\n",
              "      display: none;\n",
              "      fill: #1967D2;\n",
              "      height: 32px;\n",
              "      padding: 0 0 0 0;\n",
              "      width: 32px;\n",
              "    }\n",
              "\n",
              "    .colab-df-convert:hover {\n",
              "      background-color: #E2EBFA;\n",
              "      box-shadow: 0px 1px 2px rgba(60, 64, 67, 0.3), 0px 1px 3px 1px rgba(60, 64, 67, 0.15);\n",
              "      fill: #174EA6;\n",
              "    }\n",
              "\n",
              "    .colab-df-buttons div {\n",
              "      margin-bottom: 4px;\n",
              "    }\n",
              "\n",
              "    [theme=dark] .colab-df-convert {\n",
              "      background-color: #3B4455;\n",
              "      fill: #D2E3FC;\n",
              "    }\n",
              "\n",
              "    [theme=dark] .colab-df-convert:hover {\n",
              "      background-color: #434B5C;\n",
              "      box-shadow: 0px 1px 3px 1px rgba(0, 0, 0, 0.15);\n",
              "      filter: drop-shadow(0px 1px 2px rgba(0, 0, 0, 0.3));\n",
              "      fill: #FFFFFF;\n",
              "    }\n",
              "  </style>\n",
              "\n",
              "    <script>\n",
              "      const buttonEl =\n",
              "        document.querySelector('#df-ca1a556e-c487-454a-bce6-7b67fca062ed button.colab-df-convert');\n",
              "      buttonEl.style.display =\n",
              "        google.colab.kernel.accessAllowed ? 'block' : 'none';\n",
              "\n",
              "      async function convertToInteractive(key) {\n",
              "        const element = document.querySelector('#df-ca1a556e-c487-454a-bce6-7b67fca062ed');\n",
              "        const dataTable =\n",
              "          await google.colab.kernel.invokeFunction('convertToInteractive',\n",
              "                                                    [key], {});\n",
              "        if (!dataTable) return;\n",
              "\n",
              "        const docLinkHtml = 'Like what you see? Visit the ' +\n",
              "          '<a target=\"_blank\" href=https://colab.research.google.com/notebooks/data_table.ipynb>data table notebook</a>'\n",
              "          + ' to learn more about interactive tables.';\n",
              "        element.innerHTML = '';\n",
              "        dataTable['output_type'] = 'display_data';\n",
              "        await google.colab.output.renderOutput(dataTable, element);\n",
              "        const docLink = document.createElement('div');\n",
              "        docLink.innerHTML = docLinkHtml;\n",
              "        element.appendChild(docLink);\n",
              "      }\n",
              "    </script>\n",
              "  </div>\n",
              "\n",
              "\n",
              "<div id=\"df-563a6bb8-8404-4986-8bb2-8f46559ad6a3\">\n",
              "  <button class=\"colab-df-quickchart\" onclick=\"quickchart('df-563a6bb8-8404-4986-8bb2-8f46559ad6a3')\"\n",
              "            title=\"Suggest charts\"\n",
              "            style=\"display:none;\">\n",
              "\n",
              "<svg xmlns=\"http://www.w3.org/2000/svg\" height=\"24px\"viewBox=\"0 0 24 24\"\n",
              "     width=\"24px\">\n",
              "    <g>\n",
              "        <path d=\"M19 3H5c-1.1 0-2 .9-2 2v14c0 1.1.9 2 2 2h14c1.1 0 2-.9 2-2V5c0-1.1-.9-2-2-2zM9 17H7v-7h2v7zm4 0h-2V7h2v10zm4 0h-2v-4h2v4z\"/>\n",
              "    </g>\n",
              "</svg>\n",
              "  </button>\n",
              "\n",
              "<style>\n",
              "  .colab-df-quickchart {\n",
              "      --bg-color: #E8F0FE;\n",
              "      --fill-color: #1967D2;\n",
              "      --hover-bg-color: #E2EBFA;\n",
              "      --hover-fill-color: #174EA6;\n",
              "      --disabled-fill-color: #AAA;\n",
              "      --disabled-bg-color: #DDD;\n",
              "  }\n",
              "\n",
              "  [theme=dark] .colab-df-quickchart {\n",
              "      --bg-color: #3B4455;\n",
              "      --fill-color: #D2E3FC;\n",
              "      --hover-bg-color: #434B5C;\n",
              "      --hover-fill-color: #FFFFFF;\n",
              "      --disabled-bg-color: #3B4455;\n",
              "      --disabled-fill-color: #666;\n",
              "  }\n",
              "\n",
              "  .colab-df-quickchart {\n",
              "    background-color: var(--bg-color);\n",
              "    border: none;\n",
              "    border-radius: 50%;\n",
              "    cursor: pointer;\n",
              "    display: none;\n",
              "    fill: var(--fill-color);\n",
              "    height: 32px;\n",
              "    padding: 0;\n",
              "    width: 32px;\n",
              "  }\n",
              "\n",
              "  .colab-df-quickchart:hover {\n",
              "    background-color: var(--hover-bg-color);\n",
              "    box-shadow: 0 1px 2px rgba(60, 64, 67, 0.3), 0 1px 3px 1px rgba(60, 64, 67, 0.15);\n",
              "    fill: var(--button-hover-fill-color);\n",
              "  }\n",
              "\n",
              "  .colab-df-quickchart-complete:disabled,\n",
              "  .colab-df-quickchart-complete:disabled:hover {\n",
              "    background-color: var(--disabled-bg-color);\n",
              "    fill: var(--disabled-fill-color);\n",
              "    box-shadow: none;\n",
              "  }\n",
              "\n",
              "  .colab-df-spinner {\n",
              "    border: 2px solid var(--fill-color);\n",
              "    border-color: transparent;\n",
              "    border-bottom-color: var(--fill-color);\n",
              "    animation:\n",
              "      spin 1s steps(1) infinite;\n",
              "  }\n",
              "\n",
              "  @keyframes spin {\n",
              "    0% {\n",
              "      border-color: transparent;\n",
              "      border-bottom-color: var(--fill-color);\n",
              "      border-left-color: var(--fill-color);\n",
              "    }\n",
              "    20% {\n",
              "      border-color: transparent;\n",
              "      border-left-color: var(--fill-color);\n",
              "      border-top-color: var(--fill-color);\n",
              "    }\n",
              "    30% {\n",
              "      border-color: transparent;\n",
              "      border-left-color: var(--fill-color);\n",
              "      border-top-color: var(--fill-color);\n",
              "      border-right-color: var(--fill-color);\n",
              "    }\n",
              "    40% {\n",
              "      border-color: transparent;\n",
              "      border-right-color: var(--fill-color);\n",
              "      border-top-color: var(--fill-color);\n",
              "    }\n",
              "    60% {\n",
              "      border-color: transparent;\n",
              "      border-right-color: var(--fill-color);\n",
              "    }\n",
              "    80% {\n",
              "      border-color: transparent;\n",
              "      border-right-color: var(--fill-color);\n",
              "      border-bottom-color: var(--fill-color);\n",
              "    }\n",
              "    90% {\n",
              "      border-color: transparent;\n",
              "      border-bottom-color: var(--fill-color);\n",
              "    }\n",
              "  }\n",
              "</style>\n",
              "\n",
              "  <script>\n",
              "    async function quickchart(key) {\n",
              "      const quickchartButtonEl =\n",
              "        document.querySelector('#' + key + ' button');\n",
              "      quickchartButtonEl.disabled = true;  // To prevent multiple clicks.\n",
              "      quickchartButtonEl.classList.add('colab-df-spinner');\n",
              "      try {\n",
              "        const charts = await google.colab.kernel.invokeFunction(\n",
              "            'suggestCharts', [key], {});\n",
              "      } catch (error) {\n",
              "        console.error('Error during call to suggestCharts:', error);\n",
              "      }\n",
              "      quickchartButtonEl.classList.remove('colab-df-spinner');\n",
              "      quickchartButtonEl.classList.add('colab-df-quickchart-complete');\n",
              "    }\n",
              "    (() => {\n",
              "      let quickchartButtonEl =\n",
              "        document.querySelector('#df-563a6bb8-8404-4986-8bb2-8f46559ad6a3 button');\n",
              "      quickchartButtonEl.style.display =\n",
              "        google.colab.kernel.accessAllowed ? 'block' : 'none';\n",
              "    })();\n",
              "  </script>\n",
              "</div>\n",
              "\n",
              "    </div>\n",
              "  </div>\n"
            ],
            "application/vnd.google.colaboratory.intrinsic+json": {
              "type": "dataframe",
              "summary": "{\n  \"name\": \"dts\",\n  \"rows\": 8,\n  \"fields\": [\n    {\n      \"column\": \"MSRP\",\n      \"properties\": {\n        \"dtype\": \"number\",\n        \"std\": 61698.27205209043,\n        \"min\": 428.0,\n        \"max\": 192465.0,\n        \"num_unique_values\": 8,\n        \"samples\": [\n          32774.85514018692,\n          27635.0,\n          428.0\n        ],\n        \"semantic_type\": \"\",\n        \"description\": \"\"\n      }\n    },\n    {\n      \"column\": \"Invoice\",\n      \"properties\": {\n        \"dtype\": \"number\",\n        \"std\": 55527.789513749645,\n        \"min\": 428.0,\n        \"max\": 173560.0,\n        \"num_unique_values\": 8,\n        \"samples\": [\n          30014.70093457944,\n          25294.5,\n          428.0\n        ],\n        \"semantic_type\": \"\",\n        \"description\": \"\"\n      }\n    },\n    {\n      \"column\": \"EngineSize\",\n      \"properties\": {\n        \"dtype\": \"number\",\n        \"std\": 150.1667730618707,\n        \"min\": 1.108594718351475,\n        \"max\": 428.0,\n        \"num_unique_values\": 8,\n        \"samples\": [\n          3.1967289719626164,\n          3.0,\n          428.0\n        ],\n        \"semantic_type\": \"\",\n        \"description\": \"\"\n      }\n    },\n    {\n      \"column\": \"Cylinders\",\n      \"properties\": {\n        \"dtype\": \"number\",\n        \"std\": 148.70809781425416,\n        \"min\": 1.5584426332202248,\n        \"max\": 426.0,\n        \"num_unique_values\": 7,\n        \"samples\": [\n          426.0,\n          5.807511737089202,\n          6.0\n        ],\n        \"semantic_type\": \"\",\n        \"description\": \"\"\n      }\n    },\n    {\n      \"column\": \"Horsepower\",\n      \"properties\": {\n        \"dtype\": \"number\",\n        \"std\": 154.1999742458559,\n        \"min\": 71.83603158369073,\n        \"max\": 500.0,\n        \"num_unique_values\": 8,\n        \"samples\": [\n          215.8855140186916,\n          210.0,\n          428.0\n        ],\n        \"semantic_type\": \"\",\n        \"description\": \"\"\n      }\n    },\n    {\n      \"column\": \"MPG_City\",\n      \"properties\": {\n        \"dtype\": \"number\",\n        \"std\": 144.56130552303435,\n        \"min\": 5.238217638649048,\n        \"max\": 428.0,\n        \"num_unique_values\": 8,\n        \"samples\": [\n          20.060747663551403,\n          19.0,\n          428.0\n        ],\n        \"semantic_type\": \"\",\n        \"description\": \"\"\n      }\n    },\n    {\n      \"column\": \"MPG_Highway\",\n      \"properties\": {\n        \"dtype\": \"number\",\n        \"std\": 142.8556620675948,\n        \"min\": 5.7412007169842285,\n        \"max\": 428.0,\n        \"num_unique_values\": 8,\n        \"samples\": [\n          26.843457943925234,\n          26.0,\n          428.0\n        ],\n        \"semantic_type\": \"\",\n        \"description\": \"\"\n      }\n    },\n    {\n      \"column\": \"Weight\",\n      \"properties\": {\n        \"dtype\": \"number\",\n        \"std\": 2138.9458207496373,\n        \"min\": 428.0,\n        \"max\": 7190.0,\n        \"num_unique_values\": 8,\n        \"samples\": [\n          3577.9532710280373,\n          3474.5,\n          428.0\n        ],\n        \"semantic_type\": \"\",\n        \"description\": \"\"\n      }\n    },\n    {\n      \"column\": \"Wheelbase\",\n      \"properties\": {\n        \"dtype\": \"number\",\n        \"std\": 123.69676498204352,\n        \"min\": 8.31181299108951,\n        \"max\": 428.0,\n        \"num_unique_values\": 8,\n        \"samples\": [\n          108.15420560747664,\n          107.0,\n          428.0\n        ],\n        \"semantic_type\": \"\",\n        \"description\": \"\"\n      }\n    },\n    {\n      \"column\": \"Length\",\n      \"properties\": {\n        \"dtype\": \"number\",\n        \"std\": 114.57539169629455,\n        \"min\": 14.357991256895621,\n        \"max\": 428.0,\n        \"num_unique_values\": 8,\n        \"samples\": [\n          186.36214953271028,\n          187.0,\n          428.0\n        ],\n        \"semantic_type\": \"\",\n        \"description\": \"\"\n      }\n    }\n  ]\n}"
            }
          },
          "metadata": {},
          "execution_count": 200
        }
      ]
    },
    {
      "cell_type": "code",
      "source": [
        "dts.info()"
      ],
      "metadata": {
        "colab": {
          "base_uri": "https://localhost:8080/"
        },
        "id": "bXrKUQuoJsmU",
        "outputId": "23c3242e-e1de-418e-fb0c-7f471f5972a3"
      },
      "execution_count": 201,
      "outputs": [
        {
          "output_type": "stream",
          "name": "stdout",
          "text": [
            "<class 'pandas.core.frame.DataFrame'>\n",
            "RangeIndex: 428 entries, 0 to 427\n",
            "Data columns (total 15 columns):\n",
            " #   Column       Non-Null Count  Dtype  \n",
            "---  ------       --------------  -----  \n",
            " 0   Make         428 non-null    object \n",
            " 1   Model        428 non-null    object \n",
            " 2   Type         428 non-null    object \n",
            " 3   Origin       428 non-null    object \n",
            " 4   DriveTrain   428 non-null    object \n",
            " 5   MSRP         428 non-null    int64  \n",
            " 6   Invoice      428 non-null    int64  \n",
            " 7   EngineSize   428 non-null    float64\n",
            " 8   Cylinders    426 non-null    float64\n",
            " 9   Horsepower   428 non-null    int64  \n",
            " 10  MPG_City     428 non-null    int64  \n",
            " 11  MPG_Highway  428 non-null    int64  \n",
            " 12  Weight       428 non-null    int64  \n",
            " 13  Wheelbase    428 non-null    int64  \n",
            " 14  Length       428 non-null    int64  \n",
            "dtypes: float64(2), int64(8), object(5)\n",
            "memory usage: 50.3+ KB\n"
          ]
        }
      ]
    },
    {
      "cell_type": "markdown",
      "source": [
        "### **19-mashq.**  \"cars.xlsx\" formatdagi  dataset  berilgan. Datasetda corr() va corwith() metodlarini ishlating va natijasini oling. Bu metodlarni vazifasini tushuntiring."
      ],
      "metadata": {
        "id": "fgLoewvep77w"
      }
    },
    {
      "cell_type": "code",
      "source": [
        "# Javobni shuyerga yozing\n",
        "print(dts['Weight'].corr(dts['Length']))"
      ],
      "metadata": {
        "id": "MJYviNz_p67-",
        "colab": {
          "base_uri": "https://localhost:8080/"
        },
        "outputId": "9df9f521-4035-4446-b084-a948f664d3ae"
      },
      "execution_count": 202,
      "outputs": [
        {
          "output_type": "stream",
          "name": "stdout",
          "text": [
            "0.690020710909717\n"
          ]
        }
      ]
    },
    {
      "cell_type": "code",
      "source": [
        "dts1 = dts[['Invoice', 'Length', 'Weight']]\n",
        "dts2 = dts[['Weight']]\n",
        "dts1.corrwith(dts2['Weight'])"
      ],
      "metadata": {
        "colab": {
          "base_uri": "https://localhost:8080/"
        },
        "id": "YUK3q_RcY-dI",
        "outputId": "c55be1e6-6d5b-4c6a-cb23-90ae02b0993a"
      },
      "execution_count": 203,
      "outputs": [
        {
          "output_type": "execute_result",
          "data": {
            "text/plain": [
              "Invoice    0.442332\n",
              "Length     0.690021\n",
              "Weight     1.000000\n",
              "dtype: float64"
            ]
          },
          "metadata": {},
          "execution_count": 203
        }
      ]
    },
    {
      "cell_type": "markdown",
      "source": [
        "### **20-mashq.**  \"cars.xlsx\" formatdagi  dataset  berilgan. Datasetda 3 ta ustunning bir-biriga korelyatsiyasi natijasini oling."
      ],
      "metadata": {
        "id": "WlwpBWAEqdjS"
      }
    },
    {
      "cell_type": "code",
      "source": [
        "# Javobni shuyerga yozing\n",
        "print(dts[['Invoice', 'Weight', 'Length']].corr())"
      ],
      "metadata": {
        "id": "zUr2mVBrqyer",
        "colab": {
          "base_uri": "https://localhost:8080/"
        },
        "outputId": "f831237b-9804-4c4e-a303-12abdcc0fc83"
      },
      "execution_count": 204,
      "outputs": [
        {
          "output_type": "stream",
          "name": "stdout",
          "text": [
            "          Invoice    Weight    Length\n",
            "Invoice  1.000000  0.442332  0.166586\n",
            "Weight   0.442332  1.000000  0.690021\n",
            "Length   0.166586  0.690021  1.000000\n"
          ]
        }
      ]
    }
  ],
  "metadata": {
    "colab": {
      "provenance": [],
      "include_colab_link": true
    },
    "kernelspec": {
      "display_name": "Python 3",
      "language": "python",
      "name": "python3"
    },
    "language_info": {
      "codemirror_mode": {
        "name": "ipython",
        "version": 3
      },
      "file_extension": ".py",
      "mimetype": "text/x-python",
      "name": "python",
      "nbconvert_exporter": "python",
      "pygments_lexer": "ipython3",
      "version": "3.8.8"
    }
  },
  "nbformat": 4,
  "nbformat_minor": 0
}